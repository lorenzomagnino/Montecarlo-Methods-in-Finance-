{
 "cells": [
  {
   "cell_type": "code",
   "execution_count": 1,
   "metadata": {},
   "outputs": [],
   "source": [
    "import numpy as np\n",
    "import matplotlib.pyplot as plt\n",
    "%matplotlib inline\n",
    "import copy"
   ]
  },
  {
   "cell_type": "code",
   "execution_count": 2,
   "metadata": {},
   "outputs": [],
   "source": [
    "#generates geometric brownian motion and the underlying bm\n",
    "def gen_bs(t, n, x, r, sigma): #returns n+1 values - from 0 to n inclusive. Truncate if needed\n",
    "    Z = np.random.normal(size=n)\n",
    "    W = np.cumsum(np.sqrt(t)*np.append(np.array(0.0), Z)) #generate the underlying brownian motion\n",
    "    V = np.append(np.array([1.0]), np.exp((r-0.5*sigma**2)*t+np.sqrt(t)*sigma*Z)) #generate the geometric BM process\n",
    "    return (x*np.cumprod(V), W)"
   ]
  },
  {
   "cell_type": "code",
   "execution_count": 3,
   "metadata": {},
   "outputs": [
    {
     "data": {
      "text/plain": [
       "[<matplotlib.lines.Line2D at 0x1112c8a50>]"
      ]
     },
     "execution_count": 3,
     "metadata": {},
     "output_type": "execute_result"
    },
    {
     "data": {
      "image/png": "[encoded data removed]",
      "text/plain": [
       "<Figure size 640x480 with 1 Axes>"
      ]
     },
     "metadata": {},
     "output_type": "display_data"
    }
   ],
   "source": [
    "plt.plot(gen_bs(1/500, 500, 50, 2, 0.2)[0])"
   ]
  },
  {
   "cell_type": "code",
   "execution_count": 4,
   "metadata": {},
   "outputs": [],
   "source": [
    "def g(x):\n",
    "    return x if x>0 else 0"
   ]
  },
  {
   "cell_type": "code",
   "execution_count": 5,
   "metadata": {},
   "outputs": [],
   "source": [
    "def method1(M, T, n, S0, K, r, sigma):\n",
    "    h = T/n\n",
    "    estimator = np.zeros(M)\n",
    "    for i in range(M):\n",
    "        bs = gen_bs(h, n, S0, r, sigma)[0][:-1] #generates n+1 values, we don't need the last\n",
    "        S = h/T*bs.sum() #method 1 simply uses the Riemann sums as an approximation\n",
    "        estimator[i] = (np.exp(-r*T)*g(S-K))\n",
    "    rt = (estimator.mean(), (estimator.mean()-1.96*estimator.std(ddof=1)/np.sqrt(M),estimator.mean()+1.96*estimator.std(ddof=1)/np.sqrt(M)), estimator.std(ddof=1)/np.sqrt(M))\n",
    "    print(\"Estimator:\", np.round(rt[0], 3))\n",
    "    print(\"Condidence Interval 95%:\", np.round([rt[1][0],rt[1][1]], 3))\n",
    "    print(\"Error:\", 1.96*estimator.std(ddof=1)/np.sqrt(M), \"%\")\n",
    "    return rt\n"
   ]
  },
  {
   "cell_type": "code",
   "execution_count": 6,
   "metadata": {},
   "outputs": [
    {
     "name": "stdout",
     "output_type": "stream",
     "text": [
      "Estimator: 7.074\n",
      "Condidence Interval 95%: [7.021 7.127]\n",
      "Error: 0.05305040717219933 %\n",
      "CPU times: user 4.23 s, sys: 5.6 ms, total: 4.24 s\n",
      "Wall time: 3.9 s\n"
     ]
    },
    {
     "data": {
      "text/plain": [
       "(7.074119125582671,\n",
       " (7.021068718410472, 7.12716953275487),\n",
       " 0.027066534271530267)"
      ]
     },
     "execution_count": 6,
     "metadata": {},
     "output_type": "execute_result"
    }
   ],
   "source": [
    "%%time\n",
    "#NOTE: the other values for n were also calculated with this seed\n",
    "np.random.seed(31416) #reproduceability\n",
    "method1(100000, 1, 1000, 100, 100, 0.1, 0.2)"
   ]
  },
  {
   "cell_type": "code",
   "execution_count": 7,
   "metadata": {},
   "outputs": [],
   "source": [
    "def method2(M, T, n, S0, K, r, sigma):\n",
    "    h = T/n\n",
    "    estimator = np.zeros(M)\n",
    "    for i in range(M):\n",
    "        bsw = gen_bs(h, n, S0, r, sigma) #generates n+1 values\n",
    "        bs, W = bsw[0][:-1], bsw[1] #we only need the first n values of the geometric BM, but we need n+1 values of the underlying BM\n",
    "        S = h/T*(bs*(1+r*h/2+sigma*np.diff(W)/2)).sum() #method 2 uses consecutive differences of W\n",
    "        estimator[i] = (np.exp(-r*T)*g(S-K))\n",
    "    rt = (estimator.mean(), (estimator.mean()-1.96*estimator.std(ddof=1)/np.sqrt(M),estimator.mean()+1.96*estimator.std(ddof=1)/np.sqrt(M)), estimator.std(ddof=1)/np.sqrt(M))\n",
    "    print(\"Estimator:\", np.round(rt[0], 3))\n",
    "    print(\"Condidence Interval 95%:\", np.round([rt[1][0],rt[1][1]], 3))\n",
    "    print(\"Error:\", 1.96*estimator.std(ddof=1)/np.sqrt(M), \"%\")\n",
    "    return rt"
   ]
  },
  {
   "cell_type": "code",
   "execution_count": 8,
   "metadata": {},
   "outputs": [
    {
     "name": "stdout",
     "output_type": "stream",
     "text": [
      "Estimator: 7.08\n",
      "Condidence Interval 95%: [7.027 7.133]\n",
      "Error: 0.053094862607878816 %\n",
      "CPU times: user 4.32 s, sys: 2.47 ms, total: 4.32 s\n",
      "Wall time: 4.35 s\n"
     ]
    },
    {
     "data": {
      "text/plain": [
       "(7.080368973472873, (7.027274110864994, 7.133463836080752), 0.0270892156162647)"
      ]
     },
     "execution_count": 8,
     "metadata": {},
     "output_type": "execute_result"
    }
   ],
   "source": [
    "%%time\n",
    "#NOTE: the other values for n were also calculated with this seed\n",
    "np.random.seed(31416) #reproduceability\n",
    "method2(100000, 1, 1000, 100, 100, 0.1, 0.2)"
   ]
  },
  {
   "cell_type": "code",
   "execution_count": 9,
   "metadata": {},
   "outputs": [],
   "source": [
    "def method3(M, T, n, S0, K, r, sigma):\n",
    "    h = T/n\n",
    "    estimator = np.zeros(M)\n",
    "    for i in range(M):\n",
    "        bsw = gen_bs(h, n, S0, r, sigma) #n+1 values\n",
    "        bs, W = bsw[0][:-1], bsw[1] #again, only n vaslues of the GeoBM are needed, but n+1 of the underlying BM are needed\n",
    "        int_rv = h*np.convolve(W, [0.5, 0.5], \"valid\")+np.sqrt(h**3/12)*np.random.normal(size=n) #efficient way to compute consecutive means, returns n valuesd\n",
    "        int_rv = int_rv-h*W[:-1]\n",
    "        S = 1/T*(bs*(h+r*h**2/2+sigma*int_rv)).sum()\n",
    "        estimator[i] = (np.exp(-r*T)*g(S-K))\n",
    "    rt = (estimator.mean(), (estimator.mean()-1.96*estimator.std(ddof=1)/np.sqrt(M),estimator.mean()+1.96*estimator.std(ddof=1)/np.sqrt(M)), estimator.std(ddof=1)/np.sqrt(M))\n",
    "    print(\"Estimator:\", np.round(rt[0], 3))\n",
    "    print(\"Condidence Interval 95%:\", np.round([rt[1][0],rt[1][1]], 3))\n",
    "    print(\"Error:\", 1.96*estimator.std(ddof=1)/np.sqrt(M), \"%\")\n",
    "    return rt"
   ]
  },
  {
   "cell_type": "code",
   "execution_count": 10,
   "metadata": {},
   "outputs": [
    {
     "name": "stdout",
     "output_type": "stream",
     "text": [
      "Estimator: 12.748\n",
      "Condidence Interval 95%: [12.032 13.463]\n",
      "Error: 0.7155633636787218 %\n",
      "CPU times: user 604 ms, sys: 827 µs, total: 605 ms\n",
      "Wall time: 609 ms\n"
     ]
    },
    {
     "data": {
      "text/plain": [
       "(12.74792395109164,\n",
       " (12.032360587412917, 13.463487314770362),\n",
       " 0.36508334881567434)"
      ]
     },
     "execution_count": 10,
     "metadata": {},
     "output_type": "execute_result"
    }
   ],
   "source": [
    "%%time\n",
    "#NOTE: the other values for n were also calculated with this seed\n",
    "np.random.seed(31416) #reproduceability\n",
    "method3(10000, 1, 1000, 100, 200, 1, 1)"
   ]
  },
  {
   "cell_type": "code",
   "execution_count": 11,
   "metadata": {},
   "outputs": [],
   "source": [
    "#Comparison between methods: n ranging from 5 to 100, increments of 5. 20000 montecarlo steps\n",
    "meth1 = np.zeros(20)\n",
    "meth2 = np.zeros(20)\n",
    "meth3 = np.zeros(20)"
   ]
  },
  {
   "cell_type": "code",
   "execution_count": 12,
   "metadata": {},
   "outputs": [
    {
     "name": "stdout",
     "output_type": "stream",
     "text": [
      "Estimator: 5.743\n",
      "Condidence Interval 95%: [5.644 5.841]\n",
      "Error: 0.09871925881988237 %\n",
      "Estimator: 6.968\n",
      "Condidence Interval 95%: [6.852 7.084]\n",
      "Error: 0.1159095785334531 %\n",
      "Estimator: 7.043\n",
      "Condidence Interval 95%: [6.925 7.162]\n",
      "Error: 0.11834757540979637 %\n",
      "0\n",
      "Estimator: 6.417\n",
      "Condidence Interval 95%: [6.308 6.525]\n",
      "Error: 0.10892330521881761 %\n",
      "Estimator: 7.027\n",
      "Condidence Interval 95%: [6.908 7.146]\n",
      "Error: 0.11935181376683612 %\n",
      "Estimator: 7.073\n",
      "Condidence Interval 95%: [6.955 7.191]\n",
      "Error: 0.11779718713251598 %\n",
      "1\n",
      "Estimator: 6.575\n",
      "Condidence Interval 95%: [6.464 6.686]\n",
      "Error: 0.11090792329860857 %\n",
      "Estimator: 7.081\n",
      "Condidence Interval 95%: [6.962 7.199]\n",
      "Error: 0.11875199566645939 %\n",
      "Estimator: 7.072\n",
      "Condidence Interval 95%: [6.953 7.19 ]\n",
      "Error: 0.11859369613584426 %\n",
      "2\n",
      "Estimator: 6.797\n",
      "Condidence Interval 95%: [6.683 6.911]\n",
      "Error: 0.11437302390226839 %\n",
      "Estimator: 7.048\n",
      "Condidence Interval 95%: [6.929 7.166]\n",
      "Error: 0.11855222049842298 %\n",
      "Estimator: 7.09\n",
      "Condidence Interval 95%: [6.971 7.209]\n",
      "Error: 0.11900779864963597 %\n",
      "3\n",
      "Estimator: 6.826\n",
      "Condidence Interval 95%: [6.712 6.941]\n",
      "Error: 0.11449236719230838 %\n",
      "Estimator: 7.075\n",
      "Condidence Interval 95%: [6.956 7.195]\n",
      "Error: 0.11972713163279707 %\n",
      "Estimator: 7.074\n",
      "Condidence Interval 95%: [6.956 7.193]\n",
      "Error: 0.11853940576374676 %\n",
      "4\n",
      "Estimator: 6.846\n",
      "Condidence Interval 95%: [6.731 6.961]\n",
      "Error: 0.11500265875622157 %\n",
      "Estimator: 7.038\n",
      "Condidence Interval 95%: [6.92  7.155]\n",
      "Error: 0.1177899575554681 %\n",
      "Estimator: 7.031\n",
      "Condidence Interval 95%: [6.912 7.15 ]\n",
      "Error: 0.1187728701166315 %\n",
      "5\n",
      "Estimator: 6.939\n",
      "Condidence Interval 95%: [6.822 7.055]\n",
      "Error: 0.11645737224428929 %\n",
      "Estimator: 7.039\n",
      "Condidence Interval 95%: [6.92  7.157]\n",
      "Error: 0.11848581175227123 %\n",
      "Estimator: 6.99\n",
      "Condidence Interval 95%: [6.872 7.107]\n",
      "Error: 0.11751818868302363 %\n",
      "6\n",
      "Estimator: 6.876\n",
      "Condidence Interval 95%: [6.76  6.992]\n",
      "Error: 0.11599805434339863 %\n",
      "Estimator: 7.08\n",
      "Condidence Interval 95%: [6.96  7.199]\n",
      "Error: 0.11932835114598102 %\n",
      "Estimator: 7.081\n",
      "Condidence Interval 95%: [6.962 7.2  ]\n",
      "Error: 0.11894999300681969 %\n",
      "7\n",
      "Estimator: 6.995\n",
      "Condidence Interval 95%: [6.879 7.112]\n",
      "Error: 0.11652815847226769 %\n",
      "Estimator: 7.077\n",
      "Condidence Interval 95%: [6.958 7.195]\n",
      "Error: 0.11819345825421783 %\n",
      "Estimator: 7.119\n",
      "Condidence Interval 95%: [7.    7.238]\n",
      "Error: 0.11873390018538815 %\n",
      "8\n",
      "Estimator: 6.916\n",
      "Condidence Interval 95%: [6.8   7.033]\n",
      "Error: 0.11652644779129781 %\n",
      "Estimator: 6.98\n",
      "Condidence Interval 95%: [6.863 7.098]\n",
      "Error: 0.1173034705572704 %\n",
      "Estimator: 7.081\n",
      "Condidence Interval 95%: [6.961 7.2  ]\n",
      "Error: 0.11945779864997741 %\n",
      "9\n",
      "Estimator: 6.875\n",
      "Condidence Interval 95%: [6.759 6.992]\n",
      "Error: 0.11607543428105732 %\n",
      "Estimator: 7.038\n",
      "Condidence Interval 95%: [6.921 7.156]\n",
      "Error: 0.11754541965355557 %\n",
      "Estimator: 6.986\n",
      "Condidence Interval 95%: [6.869 7.104]\n",
      "Error: 0.11732167603980248 %\n",
      "10\n",
      "Estimator: 6.967\n",
      "Condidence Interval 95%: [6.851 7.084]\n",
      "Error: 0.11644353297035667 %\n",
      "Estimator: 7.036\n",
      "Condidence Interval 95%: [6.918 7.154]\n",
      "Error: 0.11802554535631367 %\n",
      "Estimator: 7.187\n",
      "Condidence Interval 95%: [7.069 7.305]\n",
      "Error: 0.1184360732937122 %\n",
      "11\n",
      "Estimator: 6.892\n",
      "Condidence Interval 95%: [6.776 7.009]\n",
      "Error: 0.1164045450460973 %\n",
      "Estimator: 7.013\n",
      "Condidence Interval 95%: [6.894 7.131]\n",
      "Error: 0.11804575557782096 %\n",
      "Estimator: 7.064\n",
      "Condidence Interval 95%: [6.944 7.183]\n",
      "Error: 0.11948461870346397 %\n",
      "12\n",
      "Estimator: 7.009\n",
      "Condidence Interval 95%: [6.892 7.127]\n",
      "Error: 0.11753627186467311 %\n",
      "Estimator: 6.99\n",
      "Condidence Interval 95%: [6.872 7.108]\n",
      "Error: 0.11787863835598388 %\n",
      "Estimator: 7.107\n",
      "Condidence Interval 95%: [6.988 7.225]\n",
      "Error: 0.11853196462779651 %\n",
      "13\n",
      "Estimator: 6.91\n",
      "Condidence Interval 95%: [6.793 7.027]\n",
      "Error: 0.11681747487452437 %\n",
      "Estimator: 7.068\n",
      "Condidence Interval 95%: [6.95  7.185]\n",
      "Error: 0.11783168301002399 %\n",
      "Estimator: 7.005\n",
      "Condidence Interval 95%: [6.887 7.123]\n",
      "Error: 0.11793325865356552 %\n",
      "14\n",
      "Estimator: 6.965\n",
      "Condidence Interval 95%: [6.848 7.082]\n",
      "Error: 0.11717654233015617 %\n",
      "Estimator: 7.063\n",
      "Condidence Interval 95%: [6.944 7.182]\n",
      "Error: 0.11912297738815253 %\n",
      "Estimator: 7.133\n",
      "Condidence Interval 95%: [7.013 7.253]\n",
      "Error: 0.11990641587273033 %\n",
      "15\n",
      "Estimator: 6.962\n",
      "Condidence Interval 95%: [6.845 7.078]\n",
      "Error: 0.1166584525172085 %\n",
      "Estimator: 7.031\n",
      "Condidence Interval 95%: [6.913 7.15 ]\n",
      "Error: 0.1182925085648608 %\n",
      "Estimator: 7.037\n",
      "Condidence Interval 95%: [6.918 7.156]\n",
      "Error: 0.11874299523002352 %\n",
      "16\n",
      "Estimator: 7.059\n",
      "Condidence Interval 95%: [6.942 7.176]\n",
      "Error: 0.11682832439182865 %\n",
      "Estimator: 7.062\n",
      "Condidence Interval 95%: [6.943 7.181]\n",
      "Error: 0.1189437616083081 %\n",
      "Estimator: 7.046\n",
      "Condidence Interval 95%: [6.927 7.165]\n",
      "Error: 0.11912900999133923 %\n",
      "17\n",
      "Estimator: 6.992\n",
      "Condidence Interval 95%: [6.874 7.111]\n",
      "Error: 0.11820813393356909 %\n",
      "Estimator: 7.115\n",
      "Condidence Interval 95%: [6.995 7.235]\n",
      "Error: 0.12029441938153841 %\n",
      "Estimator: 7.207\n",
      "Condidence Interval 95%: [7.086 7.327]\n",
      "Error: 0.12069220893338271 %\n",
      "18\n",
      "Estimator: 6.96\n",
      "Condidence Interval 95%: [6.843 7.078]\n",
      "Error: 0.11756282317345297 %\n",
      "Estimator: 7.026\n",
      "Condidence Interval 95%: [6.909 7.144]\n",
      "Error: 0.11785415644447667 %\n",
      "Estimator: 7.088\n",
      "Condidence Interval 95%: [6.968 7.208]\n",
      "Error: 0.11963948889456692 %\n",
      "19\n"
     ]
    }
   ],
   "source": [
    "np.random.seed(31416) #reproduceability\n",
    "for i in range(20):\n",
    "    meth1[i] = method1(20000, 1, 5*i+5, 100, 100, 0.1, 0.2)[0]\n",
    "    meth2[i] = method2(20000, 1, 5*i+5, 100, 100, 0.1, 0.2)[0]\n",
    "    meth3[i] = method3(20000, 1, 5*i+5, 100, 100, 0.1, 0.2)[0]\n",
    "    print(i)\n"
   ]
  },
  {
   "cell_type": "code",
   "execution_count": 13,
   "metadata": {},
   "outputs": [
    {
     "data": {
      "text/plain": [
       "<matplotlib.legend.Legend at 0x1111d6e50>"
      ]
     },
     "execution_count": 13,
     "metadata": {},
     "output_type": "execute_result"
    },
    {
     "data": {
      "image/png": "[encoded data removed]",
      "text/plain": [
       "<Figure size 640x480 with 1 Axes>"
      ]
     },
     "metadata": {},
     "output_type": "display_data"
    }
   ],
   "source": [
    "plt.plot(np.arange(5,105, 5), meth1, \"-o\", label='Method 1')\n",
    "plt.plot(np.arange(5,105, 5), meth2, \"-o\", label='Method 2')\n",
    "plt.plot(np.arange(5,105, 5), meth3, \"-o\", label='Method 3')\n",
    "plt.xlabel(\"Number of time steps\")\n",
    "plt.ylabel(\"Estimator\")\n",
    "plt.legend()"
   ]
  },
  {
   "cell_type": "markdown",
   "metadata": {},
   "source": [
    "# Variance reduction"
   ]
  },
  {
   "cell_type": "code",
   "execution_count": 14,
   "metadata": {},
   "outputs": [],
   "source": [
    "from scipy.stats import norm\n",
    "#computes the theoretical EV for Z, the control variable\n",
    "def control_expectation(T, S0, K, r, sigma):\n",
    "    d = (np.log(S0/K)+0.5*(r+1/6*sigma**2)*T)/(sigma*np.sqrt(T/3))\n",
    "    dstar = 0.5*(r-1/6*sigma**2)*T\n",
    "    return np.exp(-r*T)*(np.exp(dstar)*S0*norm.cdf(d)-K*norm.cdf(d-sigma*np.sqrt(T/3)))"
   ]
  },
  {
   "cell_type": "code",
   "execution_count": 15,
   "metadata": {},
   "outputs": [],
   "source": [
    "def method1_control(M, T, n, S0, K, r, sigma):\n",
    "    h = T/n\n",
    "    Y, Z = np.zeros(M), np.zeros(M)\n",
    "    for i in range(M):\n",
    "        bsw = gen_bs(h, n, S0, r, sigma)\n",
    "        bs, W = bsw[0][:-1], bsw[1]\n",
    "        S = h/T*bs.sum()\n",
    "        Y[i] = (np.exp(-r*T)*g(S-K))\n",
    "        Z[i] = np.exp(-r*T)*g(S0*np.exp(0.5*T*(r-0.5*sigma**2)+sigma*h/T*W[:-1].sum())-K)\n",
    "    cov_mat = np.cov([Y, Z])\n",
    "    b = -cov_mat[0,1]/cov_mat[1,1]\n",
    "    estimator = Y+b*(Z-control_expectation(T, S0, K, r, sigma))\n",
    "    rt = (estimator.mean(), (estimator.mean()-1.96*estimator.std(ddof=1)/np.sqrt(M),estimator.mean()+1.96*estimator.std(ddof=1)/np.sqrt(M)), estimator.std(ddof=1)/np.sqrt(M))\n",
    "    print(\"Estimator:\", np.round(rt[0], 3))\n",
    "    print(\"Condidence Interval 95%:\", np.round([rt[1][0],rt[1][1]], 3))\n",
    "    print(\"Error:\", 1.96*estimator.std(ddof=1)/np.sqrt(M), \"%\")\n",
    "    return rt"
   ]
  },
  {
   "cell_type": "code",
   "execution_count": 16,
   "metadata": {},
   "outputs": [
    {
     "name": "stdout",
     "output_type": "stream",
     "text": [
      "Estimator: 7.04\n",
      "Condidence Interval 95%: [7.039 7.042]\n",
      "Error: 0.0015761253101797188 %\n",
      "CPU times: user 4.03 s, sys: 4.18 ms, total: 4.03 s\n",
      "Wall time: 4.06 s\n"
     ]
    },
    {
     "data": {
      "text/plain": [
       "(7.04031822210249, (7.03874209679231, 7.04189434741267), 0.0008041455664182239)"
      ]
     },
     "execution_count": 16,
     "metadata": {},
     "output_type": "execute_result"
    }
   ],
   "source": [
    "%%time\n",
    "#NOTE: the other values for n were also calculated with this seed\n",
    "np.random.seed(31416) #reproduceability\n",
    "method1_control(100000, 1, 1000, 100, 100, 0.1, 0.2)"
   ]
  },
  {
   "cell_type": "code",
   "execution_count": 17,
   "metadata": {},
   "outputs": [],
   "source": [
    "def method2_control(M, T, n, S0, K, r, sigma):\n",
    "    h = T/n\n",
    "    Y, Z = np.zeros(M), np.zeros(M)\n",
    "    for i in range(M):\n",
    "        bsw = gen_bs(h, n, S0, r, sigma)\n",
    "        bs, W = bsw[0][:-1], bsw[1]\n",
    "        S = h/T*(bs*(1+r*h/2+sigma*np.diff(W)/2)).sum()\n",
    "        Y[i] = (np.exp(-r*T)*g(S-K))\n",
    "        Z[i] = np.exp(-r*T)*g(S0*np.exp(0.5*T*(r-0.5*sigma**2)+sigma*0.5*h/T*(2*W.sum()-W[0]-W[-1]))-K) #trick to compute sum of W_ti+W_Ti+1\n",
    "    cov_mat = np.cov([Y, Z])\n",
    "    b = -cov_mat[0,1]/cov_mat[1,1]\n",
    "    estimator = Y+b*(Z-control_expectation(T, S0, K, r, sigma))\n",
    "    rt = (estimator.mean(), (estimator.mean()-1.96*estimator.std(ddof=1)/np.sqrt(M),estimator.mean()+1.96*estimator.std(ddof=1)/np.sqrt(M)), estimator.std(ddof=1)/np.sqrt(M))\n",
    "    print(\"Estimator:\", np.round(rt[0], 3))\n",
    "    print(\"Condidence Interval 95%:\", np.round([rt[1][0],rt[1][1]], 3))\n",
    "    print(\"Error:\", 1.96*estimator.std(ddof=1)/np.sqrt(M), \"%\")\n",
    "    return rt"
   ]
  },
  {
   "cell_type": "code",
   "execution_count": 18,
   "metadata": {},
   "outputs": [
    {
     "name": "stdout",
     "output_type": "stream",
     "text": [
      "Estimator: 7.043\n",
      "Condidence Interval 95%: [7.041 7.044]\n",
      "Error: 0.0015779523349428019 %\n",
      "CPU times: user 4.59 s, sys: 5.08 ms, total: 4.6 s\n",
      "Wall time: 4.68 s\n"
     ]
    },
    {
     "data": {
      "text/plain": [
       "(7.04277673103505,\n",
       " (7.041198778700108, 7.044354683369993),\n",
       " 0.0008050777219095929)"
      ]
     },
     "execution_count": 18,
     "metadata": {},
     "output_type": "execute_result"
    }
   ],
   "source": [
    "%%time\n",
    "#NOTE: the other values for n were also calculated with this seed\n",
    "np.random.seed(31416) #reproduceability\n",
    "method2_control(100000, 1, 1000, 100, 100, 0.1, 0.2)"
   ]
  },
  {
   "cell_type": "code",
   "execution_count": 19,
   "metadata": {},
   "outputs": [],
   "source": [
    "def method3_control(M, T, n, S0, K, r, sigma):\n",
    "    h = T/n\n",
    "    Y, Z = np.zeros(M), np.zeros(M)\n",
    "    for i in range(M):\n",
    "        bsw = gen_bs(h, n, S0, r, sigma)\n",
    "        bs, W = bsw[0][:-1], bsw[1]\n",
    "        int_rv = h*np.convolve(W, [0.5, 0.5], \"valid\")+np.sqrt(h**3/12)*np.random.normal(size=n)\n",
    "        Z[i] = np.exp(-r*T)*g(S0*np.exp(0.5*T*(r-0.5*sigma**2)+sigma/T*int_rv.sum())-K)\n",
    "        int_rv = int_rv-h*W[:-1]\n",
    "        S = 1/T*(bs*(h+r*h**2/2+sigma*int_rv)).sum()\n",
    "        Y[i] = (np.exp(-r*T)*g(S-K))\n",
    "    cov_mat = np.cov([Y, Z])\n",
    "    b = -cov_mat[0,1]/cov_mat[1,1]\n",
    "    estimator = Y+b*(Z-control_expectation(T, S0, K, r, sigma))\n",
    "    rt = (estimator.mean(), (estimator.mean()-1.96*estimator.std(ddof=1)/np.sqrt(M),estimator.mean()+1.96*estimator.std(ddof=1)/np.sqrt(M)), estimator.std(ddof=1)/np.sqrt(M))\n",
    "    print(\"Estimator:\", np.round(rt[0], 3))\n",
    "    print(\"Condidence Interval 95%:\", np.round([rt[1][0],rt[1][1]], 3))\n",
    "    print(\"Error:\", 1.96*estimator.std(ddof=1)/np.sqrt(M), \"%\")\n",
    "    return rt"
   ]
  },
  {
   "cell_type": "code",
   "execution_count": 20,
   "metadata": {},
   "outputs": [
    {
     "name": "stdout",
     "output_type": "stream",
     "text": [
      "Estimator: 0.017\n",
      "Condidence Interval 95%: [0.017 0.017]\n",
      "Error: 2.789023507273533e-06 %\n",
      "CPU times: user 636 ms, sys: 1.37 ms, total: 637 ms\n",
      "Wall time: 642 ms\n"
     ]
    },
    {
     "data": {
      "text/plain": [
       "(0.016971690231594953,\n",
       " (0.01696890120808768, 0.016974479255102225),\n",
       " 1.4229711771803739e-06)"
      ]
     },
     "execution_count": 20,
     "metadata": {},
     "output_type": "execute_result"
    }
   ],
   "source": [
    "%%time\n",
    "#NOTE: the other values for n were also calculated with this seed\n",
    "np.random.seed(31416) #reproduceability\n",
    "method3_control(10000, 1, 1000, 1, 1, 0.02, 0.05)"
   ]
  },
  {
   "cell_type": "code",
   "execution_count": 21,
   "metadata": {},
   "outputs": [],
   "source": [
    "meth1_control = np.zeros(20)\n",
    "meth2_control = np.zeros(20)\n",
    "meth3_control = np.zeros(20)\n",
    "error2_control = np.zeros(20)\n",
    "error3_control = np.zeros(20)"
   ]
  },
  {
   "cell_type": "code",
   "execution_count": 22,
   "metadata": {},
   "outputs": [
    {
     "name": "stdout",
     "output_type": "stream",
     "text": [
      "Estimator: 6.526\n",
      "Condidence Interval 95%: [6.521 6.531]\n",
      "Error: 0.005041638540112666 %\n",
      "Estimator: 7.038\n",
      "Condidence Interval 95%: [7.035 7.041]\n",
      "Error: 0.002928662864168019 %\n",
      "Estimator: 7.033\n",
      "Condidence Interval 95%: [7.03  7.036]\n",
      "Error: 0.003247578450414322 %\n",
      "0\n",
      "Estimator: 6.79\n",
      "Condidence Interval 95%: [6.787 6.794]\n",
      "Error: 0.0036864358891314426 %\n",
      "Estimator: 7.043\n",
      "Condidence Interval 95%: [7.04  7.046]\n",
      "Error: 0.003338851666433937 %\n",
      "Estimator: 7.038\n",
      "Condidence Interval 95%: [7.035 7.042]\n",
      "Error: 0.0033154591365019675 %\n",
      "1\n",
      "Estimator: 6.872\n",
      "Condidence Interval 95%: [6.869 6.876]\n",
      "Error: 0.0035214686664529495 %\n",
      "Estimator: 7.042\n",
      "Condidence Interval 95%: [7.039 7.046]\n",
      "Error: 0.003419510063202278 %\n",
      "Estimator: 7.04\n",
      "Condidence Interval 95%: [7.036 7.043]\n",
      "Error: 0.003439028981824042 %\n",
      "2\n",
      "Estimator: 6.918\n",
      "Condidence Interval 95%: [6.915 6.922]\n",
      "Error: 0.0035699361422596378 %\n",
      "Estimator: 7.04\n",
      "Condidence Interval 95%: [7.036 7.043]\n",
      "Error: 0.0034026525050080375 %\n",
      "Estimator: 7.04\n",
      "Condidence Interval 95%: [7.036 7.043]\n",
      "Error: 0.0034646890212853506 %\n",
      "3\n",
      "Estimator: 6.942\n",
      "Condidence Interval 95%: [6.939 6.946]\n",
      "Error: 0.003530767807680458 %\n",
      "Estimator: 7.042\n",
      "Condidence Interval 95%: [7.039 7.046]\n",
      "Error: 0.0035180539262617905 %\n",
      "Estimator: 7.04\n",
      "Condidence Interval 95%: [7.037 7.044]\n",
      "Error: 0.003505888687718343 %\n",
      "4\n",
      "Estimator: 6.957\n",
      "Condidence Interval 95%: [6.954 6.961]\n",
      "Error: 0.0033855746959145588 %\n",
      "Estimator: 7.042\n",
      "Condidence Interval 95%: [7.038 7.045]\n",
      "Error: 0.0035365145036917738 %\n",
      "Estimator: 7.044\n",
      "Condidence Interval 95%: [7.041 7.048]\n",
      "Error: 0.003515692169833547 %\n",
      "5\n",
      "Estimator: 6.971\n",
      "Condidence Interval 95%: [6.967 6.974]\n",
      "Error: 0.0034482662813805276 %\n",
      "Estimator: 7.044\n",
      "Condidence Interval 95%: [7.041 7.048]\n",
      "Error: 0.0035102646296112238 %\n",
      "Estimator: 7.041\n",
      "Condidence Interval 95%: [7.037 7.044]\n",
      "Error: 0.0034026291348660115 %\n",
      "6\n",
      "Estimator: 6.978\n",
      "Condidence Interval 95%: [6.975 6.982]\n",
      "Error: 0.0033774489283852904 %\n",
      "Estimator: 7.044\n",
      "Condidence Interval 95%: [7.04  7.047]\n",
      "Error: 0.003509363799909924 %\n",
      "Estimator: 7.04\n",
      "Condidence Interval 95%: [7.037 7.044]\n",
      "Error: 0.0034671288344717654 %\n",
      "7\n",
      "Estimator: 6.985\n",
      "Condidence Interval 95%: [6.982 6.989]\n",
      "Error: 0.0034365626289543445 %\n",
      "Estimator: 7.039\n",
      "Condidence Interval 95%: [7.036 7.043]\n",
      "Error: 0.003464899130957433 %\n",
      "Estimator: 7.038\n",
      "Condidence Interval 95%: [7.034 7.041]\n",
      "Error: 0.003445365726430898 %\n",
      "8\n",
      "Estimator: 6.995\n",
      "Condidence Interval 95%: [6.991 6.998]\n",
      "Error: 0.003537008602124603 %\n",
      "Estimator: 7.038\n",
      "Condidence Interval 95%: [7.035 7.042]\n",
      "Error: 0.0033303675667698523 %\n",
      "Estimator: 7.042\n",
      "Condidence Interval 95%: [7.038 7.045]\n",
      "Error: 0.003534564842019074 %\n",
      "9\n",
      "Estimator: 6.996\n",
      "Condidence Interval 95%: [6.992 6.999]\n",
      "Error: 0.0033980479515879703 %\n",
      "Estimator: 7.038\n",
      "Condidence Interval 95%: [7.034 7.041]\n",
      "Error: 0.0034145340657780704 %\n",
      "Estimator: 7.037\n",
      "Condidence Interval 95%: [7.034 7.041]\n",
      "Error: 0.0034227555097180286 %\n",
      "10\n",
      "Estimator: 6.999\n",
      "Condidence Interval 95%: [6.996 7.003]\n",
      "Error: 0.0034383607382694036 %\n",
      "Estimator: 7.037\n",
      "Condidence Interval 95%: [7.034 7.041]\n",
      "Error: 0.003481434572900042 %\n",
      "Estimator: 7.04\n",
      "Condidence Interval 95%: [7.036 7.043]\n",
      "Error: 0.0034922338365720603 %\n",
      "11\n",
      "Estimator: 7.001\n",
      "Condidence Interval 95%: [6.998 7.005]\n",
      "Error: 0.003303077199701123 %\n",
      "Estimator: 7.038\n",
      "Condidence Interval 95%: [7.035 7.042]\n",
      "Error: 0.0034333453647377382 %\n",
      "Estimator: 7.042\n",
      "Condidence Interval 95%: [7.038 7.046]\n",
      "Error: 0.003594299982062597 %\n",
      "12\n",
      "Estimator: 7.007\n",
      "Condidence Interval 95%: [7.003 7.01 ]\n",
      "Error: 0.003432518751558424 %\n",
      "Estimator: 7.042\n",
      "Condidence Interval 95%: [7.038 7.045]\n",
      "Error: 0.003448544722440963 %\n",
      "Estimator: 7.04\n",
      "Condidence Interval 95%: [7.036 7.043]\n",
      "Error: 0.003356420064234497 %\n",
      "13\n",
      "Estimator: 7.011\n",
      "Condidence Interval 95%: [7.007 7.014]\n",
      "Error: 0.0034793014670831224 %\n",
      "Estimator: 7.04\n",
      "Condidence Interval 95%: [7.037 7.044]\n",
      "Error: 0.0034286419923081532 %\n",
      "Estimator: 7.041\n",
      "Condidence Interval 95%: [7.037 7.044]\n",
      "Error: 0.003492013692458085 %\n",
      "14\n",
      "Estimator: 7.008\n",
      "Condidence Interval 95%: [7.005 7.012]\n",
      "Error: 0.0035261382236638863 %\n",
      "Estimator: 7.042\n",
      "Condidence Interval 95%: [7.038 7.045]\n",
      "Error: 0.0034738858225467077 %\n",
      "Estimator: 7.042\n",
      "Condidence Interval 95%: [7.038 7.045]\n",
      "Error: 0.0036208375737201565 %\n",
      "15\n",
      "Estimator: 7.011\n",
      "Condidence Interval 95%: [7.008 7.015]\n",
      "Error: 0.003432683488311925 %\n",
      "Estimator: 7.041\n",
      "Condidence Interval 95%: [7.037 7.044]\n",
      "Error: 0.0035690352110494808 %\n",
      "Estimator: 7.041\n",
      "Condidence Interval 95%: [7.037 7.044]\n",
      "Error: 0.0034410904137323465 %\n",
      "16\n",
      "Estimator: 7.012\n",
      "Condidence Interval 95%: [7.008 7.015]\n",
      "Error: 0.0035074435561326797 %\n",
      "Estimator: 7.039\n",
      "Condidence Interval 95%: [7.036 7.043]\n",
      "Error: 0.0034816106282996523 %\n",
      "Estimator: 7.043\n",
      "Condidence Interval 95%: [7.039 7.046]\n",
      "Error: 0.003562690075939649 %\n",
      "17\n",
      "Estimator: 7.015\n",
      "Condidence Interval 95%: [7.012 7.018]\n",
      "Error: 0.003411516128859948 %\n",
      "Estimator: 7.042\n",
      "Condidence Interval 95%: [7.038 7.045]\n",
      "Error: 0.003593750359747958 %\n",
      "Estimator: 7.043\n",
      "Condidence Interval 95%: [7.039 7.046]\n",
      "Error: 0.003580612150390479 %\n",
      "18\n",
      "Estimator: 7.018\n",
      "Condidence Interval 95%: [7.014 7.021]\n",
      "Error: 0.0034724825851815354 %\n",
      "Estimator: 7.039\n",
      "Condidence Interval 95%: [7.035 7.042]\n",
      "Error: 0.0034683704510786967 %\n",
      "Estimator: 7.041\n",
      "Condidence Interval 95%: [7.038 7.045]\n",
      "Error: 0.003478792667454305 %\n",
      "19\n"
     ]
    }
   ],
   "source": [
    "np.random.seed(31416) #reproduceability\n",
    "for i in range(20):\n",
    "    meth1_control[i] = method1_control(20000, 1, 5*i+5, 100, 100, 0.1, 0.2)[0]\n",
    "    m2 = method2_control(20000, 1, 5*i+5, 100, 100, 0.1, 0.2)\n",
    "    meth2_control[i] = m2[0]\n",
    "    error2_control[i] = m2[2]\n",
    "    m3 = method3_control(20000, 1, 5*i+5, 100, 100, 0.1, 0.2)\n",
    "    meth3_control[i] = m3[0]\n",
    "    error3_control[i] = m3[2]\n",
    "    print(i)\n"
   ]
  },
  {
   "cell_type": "code",
   "execution_count": 23,
   "metadata": {},
   "outputs": [
    {
     "data": {
      "text/plain": [
       "<matplotlib.legend.Legend at 0x137426150>"
      ]
     },
     "execution_count": 23,
     "metadata": {},
     "output_type": "execute_result"
    },
    {
     "data": {
      "image/png": "[encoded data removed]",
      "text/plain": [
       "<Figure size 640x480 with 1 Axes>"
      ]
     },
     "metadata": {},
     "output_type": "display_data"
    }
   ],
   "source": [
    "plt.plot(np.arange(5,105, 5), meth1_control, \"-o\", label='Method 1')\n",
    "plt.plot(np.arange(5,105, 5), meth2_control, \"-o\", label='Method 2')\n",
    "plt.plot(np.arange(5,105, 5), meth3_control, \"-o\", label='Method 3')\n",
    "plt.xlabel(\"Number of time steps\")\n",
    "plt.ylabel(\"Estimator\")\n",
    "plt.legend()"
   ]
  },
  {
   "cell_type": "code",
   "execution_count": 24,
   "metadata": {},
   "outputs": [
    {
     "data": {
      "text/plain": [
       "<matplotlib.legend.Legend at 0x1374b2f50>"
      ]
     },
     "execution_count": 24,
     "metadata": {},
     "output_type": "execute_result"
    },
    {
     "data": {
      "image/png": "[encoded data removed]",
      "text/plain": [
       "<Figure size 640x480 with 1 Axes>"
      ]
     },
     "metadata": {},
     "output_type": "display_data"
    }
   ],
   "source": [
    "plt.plot(np.arange(5,105, 5), meth2_control, \"-o\", label='Method 2')\n",
    "plt.plot(np.arange(5,105, 5), meth3_control, \"-o\", label='Method 3')\n",
    "plt.xlabel(\"Number of time steps\")\n",
    "plt.ylabel(\"Estimator\")\n",
    "plt.legend()"
   ]
  },
  {
   "cell_type": "markdown",
   "metadata": {},
   "source": [
    "# PDE approach"
   ]
  },
  {
   "cell_type": "code",
   "execution_count": 25,
   "metadata": {},
   "outputs": [],
   "source": [
    "import numpy as np\n",
    "import scipy.optimize as so\n",
    "import scipy.stats as sps  #library for probability functions\n",
    "import matplotlib.pyplot as plt #library for plots\n",
    "from time import time\n",
    "\n",
    "def mesh_implicit():\n",
    "      delta=0.005\n",
    "      h=0.00005\n",
    "      m=int(T/h)\n",
    "      l=int((beta - alpha)/delta - 1 )\n",
    "\n",
    "      x=np.linspace(alpha, beta, l+2)\n",
    "      t=np.linspace(0,T,m+1)\n",
    "      return delta, h, m, l, x, t\n",
    "\n",
    "def mesh():\n",
    "      l=150\n",
    "      m=160\n",
    "      h=T/m\n",
    "      delta=(beta-alpha)/(l+1)\n",
    "\n",
    "      x=np.linspace(alpha, beta, l+2)\n",
    "      t=np.linspace(0,T,m+1)\n",
    "\n",
    "      return delta, h, m, l, x, t\n",
    "\n",
    "\n",
    "def implicit_method(m, h, M, u, F):\n",
    "      for i in range(m,0,-1):\n",
    "            u[i-1,1:-1]=np.dot(np.linalg.inv(M), u[i,1:-1] + h * F[i,:])\n",
    "\n",
    "def explicit_method(m, h, M, u, F):\n",
    "      for i in range(m,0,-1):      \n",
    "            u[i-1,1:-1]=np.dot(M, u[i,1:-1]) + dt * F[i,:] \n",
    "\n",
    "\n",
    "t1=time()\n",
    "\n",
    "alpha, beta, sigma, r, T= 0, 3, 0.05, 0.1, 1\n",
    "K=100\n",
    "S0=100\n",
    "\n",
    "\n",
    "delta, h, m, l, x, t=mesh()\n",
    "\n",
    "u=np.zeros((m+1,l+2)) #since the mesh is 0<=i<=m ; 0<=k<= l+1\n",
    "\n",
    "\n",
    "#boundary \n",
    "u[m,:]=0 #time terminal condition: since x^- is 0 if we consider x>= 0 \n",
    "u[:,0]=(1-np.exp(-r*(T-t)))/r #space condition \n",
    "u[:,l+1]=0 #space condition \n",
    "\n",
    "Sigma=sigma*x\n",
    "B=-(1/T + r*x)\n",
    "\n",
    "sup=((Sigma[1:-2])**2 + 10**(-60))/(2*delta**2) + B[1:-2]/(2*delta)\n",
    "sub=((Sigma[2:-1])**2 + 10**(-60))/(2*delta**2) - B[2:-1]/(2*delta)\n",
    "dia=-(Sigma[1:-1]**2 + 10**(-60))/delta**2\n",
    "\n",
    "\n",
    "Ad=np.diag(dia)\n",
    "Asup=np.diag(sup,k=1)\n",
    "Asub=np.diag(sub,k=-1)\n",
    "\n",
    "A = Ad + Asup+ Asub\n",
    "\n",
    "M=(np.diag(np.ones(l)) - h*A)\n",
    "\n",
    "F=np.zeros((m+1,l))\n",
    "F[:,0]=u[:,0]*(((Sigma[1])**2 + 10**(-60))/(2*delta**2) - B[1]/(2*delta))\n",
    "\n",
    "explicit_method(m, h, M, u, F)\n",
    "\n",
    "plt.plot(x,S0*u[0,:])\n",
    "\n",
    "t2=time()\n",
    "\n",
    "print(t2-t1, \"seconds\" )"
   ]
  }
 ],
 "metadata": {
  "kernelspec": {
   "display_name": "base",
   "language": "python",
   "name": "python3"
  },
  "language_info": {
   "codemirror_mode": {
    "name": "ipython",
    "version": 3
   },
   "file_extension": ".py",
   "mimetype": "text/x-python",
   "name": "python",
   "nbconvert_exporter": "python",
   "pygments_lexer": "ipython3",
   "version": "3.11.4"
  }
 },
 "nbformat": 4,
 "nbformat_minor": 2
}
