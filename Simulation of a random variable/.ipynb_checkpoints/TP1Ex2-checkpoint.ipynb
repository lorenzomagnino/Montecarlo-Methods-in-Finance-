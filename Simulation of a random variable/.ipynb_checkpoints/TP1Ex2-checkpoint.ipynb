{
 "cells": [
  {
   "cell_type": "markdown",
   "metadata": {},
   "source": [
    "# Lab Work 1"
   ]
  },
  {
   "cell_type": "markdown",
   "metadata": {},
   "source": [
    "### Exercice 2"
   ]
  },
  {
   "cell_type": "markdown",
   "metadata": {},
   "source": [
    "1. Generate $(X_1,\\ldots,X_n)$ iid copies of $X\\sim\\mathcal{E}(\\lambda)$ using the inverse transform method for $n=10^4$ and $\\lambda=\\frac{1}{2}$.\n",
    "\n",
    "2. Draw the empirical distribution using an histogram and compare it with the probability density function of $\\mathcal{E}(\\lambda).$\n",
    "\n",
    "3. Compute $\\mathbb{E}[X^2]$ and provide a Monte Carlo estimator of this quantity."
   ]
  },
  {
   "cell_type": "markdown",
   "metadata": {},
   "source": [
    "### Solution"
   ]
  },
  {
   "cell_type": "markdown",
   "metadata": {},
   "source": [
    "1. Complete the code: Generate $(U_1,\\ldots,U_n)$ idd $\\mathcal{U}(0,1)$ and set $X_i:=-\\frac{1}{\\lambda}\\mathrm{log}(U_i).$ "
   ]
  },
  {
   "cell_type": "code",
   "execution_count": null,
   "metadata": {},
   "outputs": [],
   "source": [
    "import numpy as np\n",
    "\n",
    "n=10**4\n",
    "lbd=0.5\n",
    "\n",
    "U=np.random.rand(n) #generate \n",
    "X=-1/lbd np.log(U)"
   ]
  },
  {
   "cell_type": "markdown",
   "metadata": {},
   "source": [
    "2. Complete the code."
   ]
  },
  {
   "cell_type": "code",
   "execution_count": null,
   "metadata": {},
   "outputs": [],
   "source": [
    "import matplotlib.pyplot as plt #library for plots\n",
    "\n",
    "x=np.linspace(0,10,1001) #x-coordinate for density of E(lbd)\n",
    "y= #y-coordinate for density of E(lbd)\n",
    "\n",
    "\n",
    "plt.hist()\n",
    "plt.plot()"
   ]
  },
  {
   "cell_type": "markdown",
   "metadata": {},
   "source": [
    "3. Complete the code: Set $Y_i=X_i^2$ and compute the mean and the standard deviation of the sample $(Y_1,\\ldots,Y_n).$ Then provide the MC estimator TOGETHER WITH A CONFIDENCE INTERVAL."
   ]
  },
  {
   "cell_type": "code",
   "execution_count": null,
   "metadata": {},
   "outputs": [],
   "source": [
    "Y=\n",
    "\n",
    "y=np.mean() #estimator\n",
    "s=np.std() #standard deviation\n",
    "\n",
    "print(\"Estimator:\", )\n",
    "print(\"Condidence Interval 95%:\", )\n",
    "print(\"Error:\",,\"%\")"
   ]
  }
 ],
 "metadata": {
  "kernelspec": {
   "display_name": "Python 3 (ipykernel)",
   "language": "python",
   "name": "python3"
  },
  "language_info": {
   "codemirror_mode": {
    "name": "ipython",
    "version": 3
   },
   "file_extension": ".py",
   "mimetype": "text/x-python",
   "name": "python",
   "nbconvert_exporter": "python",
   "pygments_lexer": "ipython3",
   "version": "3.11.4"
  }
 },
 "nbformat": 4,
 "nbformat_minor": 2
}
