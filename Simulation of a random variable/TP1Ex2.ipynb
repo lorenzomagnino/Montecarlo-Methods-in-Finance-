{
 "cells": [
  {
   "cell_type": "markdown",
   "metadata": {},
   "source": [
    "# Lab Work 1"
   ]
  },
  {
   "cell_type": "markdown",
   "metadata": {},
   "source": [
    "### Exercice 2"
   ]
  },
  {
   "cell_type": "markdown",
   "metadata": {},
   "source": [
    "1. Generate $(X_1,\\ldots,X_n)$ iid copies of $X\\sim\\mathcal{E}(\\lambda)$ using the inverse transform method for $n=10^4$ and $\\lambda=\\frac{1}{2}$.\n",
    "\n",
    "2. Draw the empirical distribution using an histogram and compare it with the probability density function of $\\mathcal{E}(\\lambda).$\n",
    "\n",
    "3. Compute $\\mathbb{E}[X^2]$ and provide a Monte Carlo estimator of this quantity."
   ]
  },
  {
   "cell_type": "markdown",
   "metadata": {},
   "source": [
    "### Solution"
   ]
  },
  {
   "cell_type": "markdown",
   "metadata": {},
   "source": [
    "1. Complete the code: Generate $(U_1,\\ldots,U_n)$ idd $\\mathcal{U}(0,1)$ and set $X_i:=-\\frac{1}{\\lambda}\\mathrm{log}(U_i).$ "
   ]
  },
  {
   "cell_type": "code",
   "execution_count": 1,
   "metadata": {},
   "outputs": [],
   "source": [
    "import numpy as np\n",
    "\n",
    "n=10**6\n",
    "lbd=0.5\n",
    "\n",
    "U=np.random.rand(n) #generate (U_1,...,U_n) iid uniform in (0,1)\n",
    "X=-np.log(U)/lbd  #pay attention that it is an array "
   ]
  },
  {
   "cell_type": "markdown",
   "metadata": {},
   "source": [
    "2. Complete the code."
   ]
  },
  {
   "cell_type": "code",
   "execution_count": 24,
   "metadata": {},
   "outputs": [
    {
     "data": {
      "text/plain": [
       "[]"
      ]
     },
     "execution_count": 24,
     "metadata": {},
     "output_type": "execute_result"
    },
    {
     "data": {
      "image/png": "[encoded data removed]",
      "text/plain": [
       "<Figure size 640x480 with 1 Axes>"
      ]
     },
     "metadata": {},
     "output_type": "display_data"
    }
   ],
   "source": [
    "import matplotlib.pyplot as plt #library for plots\n",
    "\n",
    "x=np.linspace(0,10,1001) #x-coordinate for density of E(lbd)\n",
    "y=lbd*np.exp(-lbd*x) #y-coordinate for density of E(lbd)\n",
    "plt.hist(X,bins=round(n**(1/3)), density=1, label=\"simulation\") #bins is the number of equal-width bins in the range; density If True, draw and return a probability density: each bin will display the bin's raw count divided by the total number of counts and the bin width (density = counts / (sum(counts) * np.diff(bins))), so that the area under the histogram integrates to 1 (np.sum(density * np.diff(bins)) == 1).   \n",
    "plt.plot(x,y,\"green\", label=\"Theory\")\n",
    "plt.legend(loc=\"best\") #says where put the legend : location best \n",
    "plt.plot()"
   ]
  },
  {
   "cell_type": "markdown",
   "metadata": {},
   "source": [
    "3. Complete the code: Set $Y_i=X_i^2$ and compute the mean and the standard deviation of the sample $(Y_1,\\ldots,Y_n).$ Then provide the MC estimator TOGETHER WITH A CONFIDENCE INTERVAL."
   ]
  },
  {
   "cell_type": "code",
   "execution_count": 2,
   "metadata": {},
   "outputs": [
    {
     "name": "stdout",
     "output_type": "stream",
     "text": [
      "Estimator: 7.99883746697349\n",
      "Condidence Interval 95%: [7.963623504625674, 8.034051429321307]\n",
      "Error: 0.44023850332266307 %\n"
     ]
    }
   ],
   "source": [
    "Y=np.power(X,2)\n",
    "\n",
    "y=np.mean(Y) #estimator\n",
    "s=np.std(Y,ddof=1) #standard deviation and ddof means: Delta degree of Freedom\n",
    "\n",
    "print(\"Estimator:\", y)\n",
    "print(\"Condidence Interval 95%:\", [y-1.96*s/np.sqrt(n),y+1.96*s/np.sqrt(n)])\n",
    "print(\"Error:\",100*1.96*s/(y*np.sqrt(n)),\"%\")#the error is half of the interval "
   ]
  }
 ],
 "metadata": {
  "kernelspec": {
   "display_name": "Python 3 (ipykernel)",
   "language": "python",
   "name": "python3"
  },
  "language_info": {
   "codemirror_mode": {
    "name": "ipython",
    "version": 3
   },
   "file_extension": ".py",
   "mimetype": "text/x-python",
   "name": "python",
   "nbconvert_exporter": "python",
   "pygments_lexer": "ipython3",
   "version": "3.11.4"
  }
 },
 "nbformat": 4,
 "nbformat_minor": 2
}
