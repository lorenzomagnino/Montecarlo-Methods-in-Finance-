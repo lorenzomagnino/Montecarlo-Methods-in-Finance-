{
 "cells": [
  {
   "cell_type": "markdown",
   "metadata": {},
   "source": [
    "# Labwork 3"
   ]
  },
  {
   "cell_type": "markdown",
   "metadata": {},
   "source": [
    "### Exercice 1"
   ]
  },
  {
   "cell_type": "markdown",
   "metadata": {},
   "source": [
    "In the Black-Scholes model, the price of a European call option with strike $K$ and maturity $T$ is given by \n",
    "$$\n",
    " \\mathbb{E}\\left[e^{-rT}(X_T-K)^+\\right], \\quad\\text{with }X_T = X_0 e^{\\left(r-\\frac{\\sigma^2}{2}\\right) T + \\sigma W_T},\n",
    "$$\n",
    "where $W_T\\sim\\mathcal{N}(0,T).$ \n",
    "For the numerical experiments, we take \n",
    "$$\n",
    "r=0, \\sigma=0.3, X_0=100, K=80, T=1.\n",
    "$$\n",
    "\n",
    "1. Compute the exact value by using the Black-Scholes formula :\n",
    "$$\n",
    " X_0 \\mathcal{N}\\left(d_1\\right) - K e^{-rT} \\mathcal{N}\\left(d_1 - \\sigma\\sqrt{T}\\right), \\quad \\text{with } d_1 = \\frac{1}{\\sigma \\sqrt{T}} \\left(\\text{ln}\\left(\\frac{X_0}{K}\\right) + \\left(r+\\frac{\\sigma^2}{2}\\right) T \\right),\n",
    "$$\n",
    "where $\\mathcal{N}$ denotes the cumulative distribution function of $\\mathcal{N}(0,1).$\n",
    "\n",
    "2. Compute the price of this option using a Monte Carlo method.\n",
    "\n",
    "3. Using $X_T$ as a control variate, construct a new Monte Carlo estimator with $b=-1.$ Compare it to the estimator of Question 2 and justify your answer.\n",
    "\n",
    "4. Estimate the optimal value for b and use it to build an (almost) optimal control variate estimator. Compare it to the estimator of Question 3 and justify your answer. \n",
    "\n",
    "5. Repeat Questions 2 to 4 with $K=150.$\n",
    "\n",
    "6. Prove that $\\mathbb{E}[X_T]=e^{r T} X_0.$"
   ]
  },
  {
   "cell_type": "markdown",
   "metadata": {},
   "source": [
    "### Solution"
   ]
  },
  {
   "cell_type": "markdown",
   "metadata": {},
   "source": [
    "1. We can use the same code as in Labwork 2."
   ]
  },
  {
   "cell_type": "code",
   "execution_count": 1,
   "metadata": {},
   "outputs": [
    {
     "name": "stdout",
     "output_type": "stream",
     "text": [
      "Black-Scholes Formula: 23.534390103173763\n"
     ]
    }
   ],
   "source": [
    "import numpy as np\n",
    "import scipy.stats as sps\n",
    "\n",
    "r,sigma,x,K,T=0,0.3,100,80,1\n",
    "\n",
    "d=(np.log(x/K)+(r+sigma**2/2)*T)/(sigma*np.sqrt(T))\n",
    "p=x*sps.norm.cdf(d)-K*np.exp(-r*T)*sps.norm.cdf(d-sigma*np.sqrt(T))\n",
    "\n",
    "print(\"Black-Scholes Formula:\", p)"
   ]
  },
  {
   "cell_type": "markdown",
   "metadata": {},
   "source": [
    "2. We can use the same code as in Labwork 2."
   ]
  },
  {
   "cell_type": "code",
   "execution_count": 3,
   "metadata": {},
   "outputs": [
    {
     "name": "stdout",
     "output_type": "stream",
     "text": [
      "Estimator: 23.49153116821178\n",
      "Standard deviation: 0.059870840567298314\n",
      "Condidence interval 95%:\n",
      "Error: 0.49952830520769054 %\n"
     ]
    }
   ],
   "source": [
    "from time import time\n",
    "\n",
    "n=200000\n",
    "\n",
    "\n",
    "W=np.sqrt(T)*np.random.randn(n) #brownian motion \n",
    "X=x*np.exp((r-sigma**2/2)*T+sigma*W) #La dinamica del sottostante   \n",
    "\n",
    "F=np.maximum(X-K,0) #parte positiva di (X_T - K)\n",
    "\n",
    "p=np.exp(-r*T)*np.mean(F) #prezzo della european option .      np.mean da già l'estimator \n",
    "s=np.std(F,ddof=1) #deviazione standard \n",
    "\n",
    "\n",
    "print(\"Estimator:\",p)\n",
    "print(\"Standard deviation:\",s/np.sqrt(n))\n",
    "print(\"Condidence interval 95%:\",)\n",
    "print(\"Error:\",100*1.96*s/(p*np.sqrt(n)),\"%\")\n",
    "\n"
   ]
  },
  {
   "cell_type": "markdown",
   "metadata": {},
   "source": [
    "3. Note that $\\mathbb{E}[X_T]=e^{r T} X_0$ is known. The proof is postponed to Question 6."
   ]
  },
  {
   "cell_type": "code",
   "execution_count": 5,
   "metadata": {},
   "outputs": [
    {
     "name": "stdout",
     "output_type": "stream",
     "text": [
      "Estimator: 23.53010240158029\n",
      "Standard deviation: 0.01681441369862879\n",
      "Condidence interval 95%:\n",
      "Error: 0.14005995506037014 %\n"
     ]
    }
   ],
   "source": [
    "F_b=np.maximum(X-K,0)-(X-np.exp(r*T)*x) #è la variabile modificata con il controllo b=-1\n",
    "p_b=np.exp(-r*T)*np.mean(F_b) #prezzo della european option .      np.mean da già l'estimator \n",
    "s_b=np.std(F_b,ddof=1) #deviazione standard \n",
    "\n",
    "\n",
    "print(\"Estimator:\",p_b)\n",
    "print(\"Standard deviation:\",s_b/np.sqrt(n))\n",
    "print(\"Condidence interval 95%:\",)\n",
    "print(\"Error:\",100*1.96*s_b/(p_b*np.sqrt(n)),\"%\")"
   ]
  },
  {
   "cell_type": "markdown",
   "metadata": {},
   "source": [
    "4. The function $\\texttt{numpy.cov}(X,Y)$ calculates the covariance matrix of two vectors $X$ and $Y.$"
   ]
  },
  {
   "cell_type": "code",
   "execution_count": 27,
   "metadata": {},
   "outputs": [
    {
     "name": "stdout",
     "output_type": "stream",
     "text": [
      "The best contorl b is: -0.8515147514348954\n",
      "Estimator: 23.5243751424061\n",
      "Standard deviation: 0.013385672236472083\n",
      "Condidence interval 95%:\n",
      "Error: 0.1115265227010907 %\n"
     ]
    }
   ],
   "source": [
    "\n",
    "b_opt=-np.cov(X,F)[0,1]/np.cov(X,F)[0,0] #(-Cov(X,F)/VarX)\n",
    "print(\"The best contorl b is:\",b_opt)\n",
    "\n",
    "\n",
    "F_b_opt=np.maximum(X-K,0)+b_opt*(X-np.exp(r*T)*x) #Y+b(X-E[X])\n",
    "\n",
    "p_b_opt=np.exp(-r*T)*np.mean(F_b_opt) \n",
    "s_b_opt=np.std(F_b_opt,ddof=1) \n",
    "\n",
    "\n",
    "print(\"Estimator:\",p_b_opt)\n",
    "print(\"Standard deviation:\",s_b_opt/np.sqrt(n))\n",
    "print(\"Condidence interval 95%:\",)\n",
    "print(\"Error:\",100*1.96*s_b_opt/(p_b_opt*np.sqrt(n)),\"%\")"
   ]
  },
  {
   "cell_type": "markdown",
   "metadata": {},
   "source": [
    "5. The performance of the control variate method depends strongly on the correlation between $X$ and $Y$ which you can estimate using the covariance matrix. "
   ]
  },
  {
   "cell_type": "code",
   "execution_count": 28,
   "metadata": {
    "scrolled": true
   },
   "outputs": [
    {
     "name": "stdout",
     "output_type": "stream",
     "text": [
      "L'indice di correlazione tra le due variabili è 0.9746865408894472\n"
     ]
    }
   ],
   "source": [
    "\n",
    "rho_XF=np.cov(X,F)[0,1]/np.sqrt(np.cov(X,F)[0,0]*np.cov(X,F)[1,1])\n",
    "print(\"L'indice di correlazione tra le due variabili è\", rho_XF)\n"
   ]
  },
  {
   "cell_type": "markdown",
   "metadata": {},
   "source": [
    "Dimostriamo che Il valore atteso di X è proprio $e^{rT}X_0$"
   ]
  },
  {
   "cell_type": "code",
   "execution_count": 30,
   "metadata": {},
   "outputs": [],
   "source": [
    "from PIL import Image\n",
    "\n",
    "# creating a object\n",
    "im = Image.open(\"MC and FD 3-7.jpg\")#dimostrazione richiesta\n",
    "\n",
    "im.show()"
   ]
  }
 ],
 "metadata": {
  "kernelspec": {
   "display_name": "Python 3 (ipykernel)",
   "language": "python",
   "name": "python3"
  },
  "language_info": {
   "codemirror_mode": {
    "name": "ipython",
    "version": 3
   },
   "file_extension": ".py",
   "mimetype": "text/x-python",
   "name": "python",
   "nbconvert_exporter": "python",
   "pygments_lexer": "ipython3",
   "version": "3.11.4"
  }
 },
 "nbformat": 4,
 "nbformat_minor": 2
}
