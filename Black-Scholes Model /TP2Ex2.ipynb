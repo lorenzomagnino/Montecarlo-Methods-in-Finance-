{
 "cells": [
  {
   "cell_type": "markdown",
   "metadata": {},
   "source": [
    "# Lab Work 2"
   ]
  },
  {
   "cell_type": "markdown",
   "metadata": {},
   "source": [
    "### Exercise 2"
   ]
  },
  {
   "cell_type": "markdown",
   "metadata": {},
   "source": [
    "In the Black-Scholes model, the price of a European call option with strike $K$ and maturity $T$ is given by \n",
    "$$\n",
    " \\mathbb{E}\\left[e^{-rT}(X_T-K)^+\\right], \\quad\\text{with }X_T = X_0 e^{(r-\\frac{\\sigma^2}{2}) T + \\sigma W_T},\n",
    "$$\n",
    "where $W_T\\sim\\mathcal{N}(0,T).$ \n",
    "For the numerical experiments, we take \n",
    "$$\n",
    "r=0,05, \\sigma=0.3, X_0=100, K=105, T=1.\n",
    "$$\n",
    "\n",
    "\n",
    "1. Compute the price of this option using the Black-Scholes formula:\n",
    "$$\n",
    " X_0 \\mathcal{N}\\left(d_1\\right) - K e^{-rT} \\mathcal{N}\\left(d_1 - \\sigma\\sqrt{T}\\right), \\quad \\text{with } d_1 = \\frac{1}{\\sigma \\sqrt{T}} \\left(\\text{ln}\\left(\\frac{X_0}{K}\\right) + \\left(r+\\frac{\\sigma^2}{2}\\right) T \\right),\n",
    "$$\n",
    "where $\\mathcal{N}$ denotes the cumulative distribution function of $\\mathcal{N}(0,1).$\n",
    "\n",
    "2. Compute the price of this option using the Monte Carlo method. What happens when you increase the number of simulation?\n",
    "\n",
    "3. Using that $W_T=-W_T$ in distribution, construct a new estimator using the antithetic control technique. Compare both estimators and justify your answer.\n",
    "\n",
    "4. Repeat Questions 2 and 3 with the option of payoff $|X_T-K|$."
   ]
  },
  {
   "cell_type": "markdown",
   "metadata": {},
   "source": [
    "1. The function $\\texttt{sps.norm.cdf}$ gives the cumulative distribution function of the normal distribtion."
   ]
  },
  {
   "cell_type": "code",
   "execution_count": 27,
   "metadata": {},
   "outputs": [
    {
     "name": "stdout",
     "output_type": "stream",
     "text": [
      "Black-Scholes Formula: 11.976881462184025\n"
     ]
    }
   ],
   "source": [
    "import numpy as np\n",
    "import scipy.stats as sps  #library for probability functions\n",
    "\n",
    "r,sigma,x,K,T=0.05,0.3,100,105,1\n",
    "\n",
    "d=(np.log(x/K)+(r+sigma**2/2)*T)/(sigma*np.sqrt(T))\n",
    "p=x*sps.norm.cdf(d)-K*np.exp(-r*T)*sps.norm.cdf(d-sigma*np.sqrt(T))\n",
    "\n",
    "print(\"Black-Scholes Formula:\", p)"
   ]
  },
  {
   "cell_type": "markdown",
   "metadata": {},
   "source": [
    "2. Complete the code. The function $\\texttt{np.maximum}$ computes the maximum element by element of two vectors."
   ]
  },
  {
   "cell_type": "code",
   "execution_count": 46,
   "metadata": {},
   "outputs": [
    {
     "name": "stdout",
     "output_type": "stream",
     "text": [
      "Estimator: 11.973234219089182\n",
      "Standard deviation: 0.04953935490493591\n",
      "Condidence interval 95%:\n",
      "Error: 0.8109516095398048 %\n",
      "Run Time: 0.02053236961364746 \n",
      "\n"
     ]
    }
   ],
   "source": [
    "from time import time\n",
    "\n",
    "n=200000\n",
    "t1=time()\n",
    "\n",
    "W=np.sqrt(T)*np.random.randn(n) #brownian motion \n",
    "X=x*np.exp((r-sigma**2/2)*T+sigma*W) #La dinamica del sottostante   \n",
    "\n",
    "F=np.maximum(X-K,0) #parte positiva di (X_T - K)\n",
    "\n",
    "p=np.exp(-r*T)*np.mean(F) #prezzo della european option \n",
    "s=np.std(F,ddof=1) #deviazione standard \n",
    "\n",
    "t2=time()\n",
    "\n",
    "print(\"Estimator:\",p)\n",
    "print(\"Standard deviation:\",s/np.sqrt(n))\n",
    "print(\"Condidence interval 95%:\",)\n",
    "print(\"Error:\",100*1.96*s/(p*np.sqrt(n)),\"%\")\n",
    "print(\"Run Time:\",t2-t1,\"\\n\")\n",
    "\n"
   ]
  },
  {
   "cell_type": "markdown",
   "metadata": {},
   "source": [
    "3. Complete the code. "
   ]
  },
  {
   "cell_type": "code",
   "execution_count": 47,
   "metadata": {},
   "outputs": [
    {
     "name": "stdout",
     "output_type": "stream",
     "text": [
      "\n",
      "Antithetic Variates Method\n",
      "\n",
      "Estimator: 11.973786936298522\n",
      "Standard deviation: 0.040712442712273526\n",
      "Condidence interval 95%:\n",
      "Error: 0.6664256524738507 %\n",
      "Run Time: 0.013314008712768555 \n",
      "\n"
     ]
    }
   ],
   "source": [
    "t1=time()\n",
    "\n",
    "W=np.sqrt(T)*np.random.randn(n//2) #Brownian Motion\n",
    "X=x*np.exp((r-sigma**2/2)*T+sigma*W) # primo sample della Dinamica del sottostante \n",
    "Y=x*np.exp((r-sigma**2/2)*T+sigma*(-W)) # secondo sample usando -W che tanto è simmatrico in law \n",
    "\n",
    "F=0.5*(np.maximum(X-K,0)+np.maximum(Y-K,0)) #g(X) usata nell'antithetic control \n",
    "\n",
    "p=np.exp(-r*T)*np.mean(F)  #in questo caso l'estimator è ottenuto usando l'antithetic control che riduce la varianza e quindi l'errore \n",
    "s=np.std(F,ddof=1)\n",
    "\n",
    "t2=time()\n",
    "\n",
    "print(\"\\nAntithetic Variates Method\\n\")\n",
    "print(\"Estimator:\",p)\n",
    "print(\"Standard deviation:\",s/np.sqrt(n//2))\n",
    "print(\"Condidence interval 95%:\",)\n",
    "print(\"Error:\",100*1.96*s/(p*np.sqrt(n//2)),\"%\")\n",
    "print(\"Run Time:\",t2-t1,\"\\n\")"
   ]
  },
  {
   "cell_type": "markdown",
   "metadata": {},
   "source": [
    "4. Write the code. The function $\\texttt{np.absolute}$ computes the absolute value element by element of a vector."
   ]
  },
  {
   "cell_type": "code",
   "execution_count": 50,
   "metadata": {},
   "outputs": [
    {
     "name": "stdout",
     "output_type": "stream",
     "text": [
      "Estimator: 23.8178329640454\n",
      "Standard deviation: 0.045546204137435355\n",
      "Condidence interval 95%:\n",
      "Error: 0.3748055511352906 %\n",
      "Run Time: 0.0332949161529541 \n",
      "\n",
      "\n",
      "Antithetic Variates Method\n",
      "\n",
      "Estimator: 23.800049685270018\n",
      "Standard deviation: 0.06084526201162497\n",
      "Condidence interval 95%:\n",
      "Error: 0.501077582273257 %\n",
      "Run Time: 0.018121004104614258 \n",
      "\n"
     ]
    }
   ],
   "source": [
    "#ricopiamo il codice di prima ma cambiamo il payoff semplicemente sostituendo nella funzione F il comando \n",
    "#per il valore assoluto al posto della parte positiva \n",
    "\n",
    "\n",
    "from time import time\n",
    "\n",
    "n=200000\n",
    "t1=time()\n",
    "\n",
    "W=np.sqrt(T)*np.random.randn(n) #brownian motion \n",
    "X=x*np.exp((r-sigma**2/2)*T+sigma*W) #La dinamica del sottostante   \n",
    "\n",
    "F=np.absolute(X-K) #valore assoluto di (X_T - K)\n",
    "\n",
    "p=np.exp(-r*T)*np.mean(F) #prezzo della european option \n",
    "s=np.std(F,ddof=1) #deviazione standard \n",
    "\n",
    "t2=time()\n",
    "\n",
    "print(\"Estimator:\",p)\n",
    "print(\"Standard deviation:\",s/np.sqrt(n))\n",
    "print(\"Condidence interval 95%:\",)\n",
    "print(\"Error:\",100*1.96*s/(p*np.sqrt(n)),\"%\")\n",
    "print(\"Run Time:\",t2-t1,\"\\n\")\n",
    "\n",
    "t1=time()\n",
    "\n",
    "W=np.sqrt(T)*np.random.randn(n//2) #Brownian Motion\n",
    "X=x*np.exp((r-sigma**2/2)*T+sigma*W) # primo sample della Dinamica del sottostante \n",
    "Y=x*np.exp((r-sigma**2/2)*T+sigma*(-W)) # secondo sample usando -W che tanto è simmatrico in law \n",
    "\n",
    "F=0.5*(np.absolute(X-K)+np.absolute(Y-K)) #g(X) usata nell'antithetic control \n",
    "\n",
    "p=np.exp(-r*T)*np.mean(F)  #in questo caso l'estimator è ottenuto usando l'antithetic control che riduce la varianza e quindi l'errore \n",
    "s=np.std(F,ddof=1)\n",
    "\n",
    "t2=time()\n",
    "\n",
    "print(\"\\nAntithetic Variates Method\\n\")\n",
    "print(\"Estimator:\",p)\n",
    "print(\"Standard deviation:\",s/np.sqrt(n//2))\n",
    "print(\"Condidence interval 95%:\",)\n",
    "print(\"Error:\",100*1.96*s/(p*np.sqrt(n//2)),\"%\")\n",
    "print(\"Run Time:\",t2-t1,\"\\n\")"
   ]
  },
  {
   "cell_type": "code",
   "execution_count": null,
   "metadata": {},
   "outputs": [],
   "source": []
  }
 ],
 "metadata": {
  "kernelspec": {
   "display_name": "Python 3 (ipykernel)",
   "language": "python",
   "name": "python3"
  },
  "language_info": {
   "codemirror_mode": {
    "name": "ipython",
    "version": 3
   },
   "file_extension": ".py",
   "mimetype": "text/x-python",
   "name": "python",
   "nbconvert_exporter": "python",
   "pygments_lexer": "ipython3",
   "version": "3.11.4"
  }
 },
 "nbformat": 4,
 "nbformat_minor": 2
}
