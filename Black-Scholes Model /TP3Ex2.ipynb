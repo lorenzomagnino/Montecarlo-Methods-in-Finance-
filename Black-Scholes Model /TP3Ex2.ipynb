{
 "cells": [
  {
   "cell_type": "markdown",
   "metadata": {},
   "source": [
    "# Labwork 3"
   ]
  },
  {
   "cell_type": "markdown",
   "metadata": {},
   "source": [
    "### Exercice 2"
   ]
  },
  {
   "cell_type": "markdown",
   "metadata": {},
   "source": [
    "In the Black-Scholes model, the price of a European call option with strike $K$ and maturity $T$ is given by \n",
    "$$\n",
    " \\mathbb{E}\\left[e^{-rT}(X_T-K)^+\\right], \\quad\\text{with }X_T = X_0 e^{\\left(r-\\frac{\\sigma^2}{2}\\right) T + \\sigma W_T},\n",
    "$$\n",
    "where $W_T\\sim\\mathcal{N}(0,T).$ \n",
    "For the numerical experiments, we take \n",
    "$$\n",
    "r=0, \\sigma=0.3, X_0=100, K=150, T=1.\n",
    "$$\n",
    "\n",
    "1. Compute the price of this option first by using the Black-Scholes and second by using a Monte Carlo method.\n",
    "\n",
    "2. Using the formula\n",
    "$$\n",
    " \\mathbb{E}[g(X_T)] = \\mathbb{E}\\left[e^{-h W_T -\\frac{h^2 T}{2}} g\\left(X_T^h\\right)\\right],\\quad\n",
    " \\text{where }\n",
    "  X_T^h = X_0 e^{\\left(r+\\sigma h-\\frac{\\sigma^2}{2}\\right)T + \\sigma W_T},\n",
    "$$\n",
    "construct a new Monte Carlo estimator. Compare it to the estimator of Question 1 for different values of $h\\in\\mathbb{Z}.$\n",
    "\n",
    "3. Repeat Questions 1 and 2 with $K=250$.\n",
    "\n",
    "4. Prove the formula above by using a change of probability measure $\\mathbb{Q}$ such that $W_T\\stackrel{\\mathbb{Q}}{\\sim}\\mathcal{N}(h T, T).$"
   ]
  },
  {
   "cell_type": "markdown",
   "metadata": {},
   "source": [
    "### Solution"
   ]
  },
  {
   "cell_type": "markdown",
   "metadata": {},
   "source": [
    "1. Use the code of Labwork 2."
   ]
  },
  {
   "cell_type": "code",
   "execution_count": 1,
   "metadata": {},
   "outputs": [
    {
     "name": "stdout",
     "output_type": "stream",
     "text": [
      "Black-Scholes Formula: 9.881655682215353\n",
      "Estimator: 9.840179245725109\n",
      "Condidence Interval 95%: [9.75541195715648, 9.924946534293737]\n",
      "Error: 0.8614404926155472 %\n"
     ]
    }
   ],
   "source": [
    "import numpy as np\n",
    "import scipy.stats as sps  #library for probability functions\n",
    "\n",
    "r,sigma,x,K,T=0,0.3,100,105,1\n",
    "\n",
    "d=(np.log(x/K)+(r+sigma**2/2)*T)/(sigma*np.sqrt(T))\n",
    "p=x*sps.norm.cdf(d)-K*np.exp(-r*T)*sps.norm.cdf(d-sigma*np.sqrt(T))\n",
    "\n",
    "print(\"Black-Scholes Formula:\", p)\n",
    "\n",
    "\n",
    "\n",
    "n=200000\n",
    "\n",
    "W=np.sqrt(T)*np.random.randn(n) #brownian motion \n",
    "X=x*np.exp((r-sigma**2/2)*T+sigma*W) #La dinamica del sottostante   \n",
    "\n",
    "F=np.maximum(X-K,0) #parte positiva di (X_T - K)\n",
    "\n",
    "p=np.exp(-r*T)*np.mean(F) #prezzo della european option \n",
    "s=np.std(F,ddof=1) #deviazione standard \n",
    "\n",
    "\n",
    "\n",
    "print(\"Estimator:\",p)\n",
    "print(\"Condidence Interval 95%:\",[p-1.96*s/np.sqrt(n),p+1.96*s/np.sqrt(n)])\n",
    "print(\"Error:\",100*1.96*s/(p*np.sqrt(n)),\"%\")\n",
    "\n"
   ]
  },
  {
   "cell_type": "markdown",
   "metadata": {},
   "source": [
    "2. The formula comes from a change of probability measure whose proof is postponed to Question 4. Start with $h=1$ and then try to find an optimal value for $h\\in\\mathbb{Z}$."
   ]
  },
  {
   "cell_type": "code",
   "execution_count": 44,
   "metadata": {},
   "outputs": [
    {
     "name": "stdout",
     "output_type": "stream",
     "text": [
      "Estimator: 9.891695340873298\n",
      "Condidence interval 95%: [9.881467509778966, 9.90192317196763]\n",
      "Error: 0.10339816120366213 %\n"
     ]
    }
   ],
   "source": [
    "\n",
    "h=1#we want to find optimal h in Z \n",
    "X_h=x*np.exp((r+sigma*h-sigma**2/2)*T+sigma*W) #La dinamica del sottostante driftato\n",
    "F_h=np.maximum(X_h-K,0)\n",
    "\n",
    "p_h=np.mean(np.exp(-h*W-(h**2*T/2))*F_h)\n",
    "s_h=np.std(np.exp(-h*W-(h**2*T/2)*F_h), ddof=1)\n",
    "\n",
    "err=100*1.96*s_h/(p_h*np.sqrt(n))\n",
    "print(\"Estimator:\",p_h)\n",
    "print(\"Condidence interval 95%:\",[p_h-1.96*s_h/np.sqrt(n),p_h+1.96*s_h/np.sqrt(n)])\n",
    "print(\"Error:\",err,\"%\")"
   ]
  },
  {
   "cell_type": "markdown",
   "metadata": {},
   "source": [
    "3. Try to find an optimal value for $h\\in\\mathbb{Z}.$"
   ]
  },
  {
   "cell_type": "code",
   "execution_count": null,
   "metadata": {},
   "outputs": [],
   "source": []
  }
 ],
 "metadata": {
  "kernelspec": {
   "display_name": "Python 3 (ipykernel)",
   "language": "python",
   "name": "python3"
  },
  "language_info": {
   "codemirror_mode": {
    "name": "ipython",
    "version": 3
   },
   "file_extension": ".py",
   "mimetype": "text/x-python",
   "name": "python",
   "nbconvert_exporter": "python",
   "pygments_lexer": "ipython3",
   "version": "3.11.4"
  }
 },
 "nbformat": 4,
 "nbformat_minor": 2
}
