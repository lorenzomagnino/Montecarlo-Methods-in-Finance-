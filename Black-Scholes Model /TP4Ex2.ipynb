{
 "cells": [
  {
   "cell_type": "markdown",
   "metadata": {},
   "source": [
    "# Labwork 4"
   ]
  },
  {
   "cell_type": "markdown",
   "metadata": {},
   "source": [
    "### Exercise 2"
   ]
  },
  {
   "cell_type": "markdown",
   "metadata": {},
   "source": [
    "Let $X$ be the solution to $$ dX_t = rX_t \\,dt + \\sigma X_t\\,dW_t,\\qquad X_0=x,$$ where $W$ is Brownian motion. We want to evaluate the speed of convergence of $$\\mathbb{E}\\left[\\left(\\bar{X}^m_T-X_T\\right)^2\\right]\\xrightarrow[m\\to\\infty]{} 0,$$\n",
    "where $\\bar{X}^m$ is the Euler discretization of $X.$ For the numerical experiments, we take \n",
    "$$\n",
    "r=0.03, \\sigma=0.2, x=100,  T=1.\n",
    "$$\n",
    "\n",
    "1. Recall the theoritical speed of convergence.\n",
    "\n",
    "2. Illustrate it using numerical simulations, e.g., plot $$\\frac{1}{m}\\in\\left\\{2^{-1},\\cdots,2^{-6}\\right\\}\\mapsto \\frac{1}{n} \\sum_{i=1}^n \\left(\\bar{X}^{m,i}_T-X^i_T\\right)^2\\approx\\mathbb{E}\\left[\\left(\\bar{X}^{m}_T-X_T\\right)^2\\right],$$\n",
    "where $n=10000$ and $(\\bar{X}^{m,i}_T,X^i_T)_{i\\ge 1}$ are independent copies of $(\\bar{X}^{m}_T,X_T).$ What do you observe? What if $n=100$?\n"
   ]
  },
  {
   "cell_type": "markdown",
   "metadata": {},
   "source": [
    "## Solution"
   ]
  },
  {
   "cell_type": "markdown",
   "metadata": {},
   "source": [
    "1. "
   ]
  },
  {
   "cell_type": "markdown",
   "metadata": {},
   "source": [
    "2."
   ]
  },
  {
   "cell_type": "code",
   "execution_count": 11,
   "metadata": {},
   "outputs": [
    {
     "name": "stdout",
     "output_type": "stream",
     "text": [
      "5\n",
      "T [0.   0.25 0.5  0.75 1.  ]\n",
      "[[ 0.56049104  0.05106865]\n",
      " [ 0.64818099  0.82382579]\n",
      " [ 0.51359176  0.78722027]\n",
      " [ 0.38381224 -0.0471085 ]]\n",
      "W [[0.         0.        ]\n",
      " [0.56049104 0.05106865]\n",
      " [1.20867203 0.87489444]\n",
      " [1.72226378 1.66211471]\n",
      " [2.10607602 1.61500621]]\n",
      "X [[100.         100.        ]\n",
      " [112.14227681 101.27948932]\n",
      " [127.98391492 119.7192088 ]\n",
      " [142.18413497 140.48393316]\n",
      " [153.91267417 139.51490303]]\n",
      "Xm1 [[111.95982078 101.77137302]\n",
      " [127.31356488 119.30303467]\n",
      " [141.34585611 138.98136078]\n",
      " [153.25600396 138.71428028]]\n",
      "Xm [[100.         100.        ]\n",
      " [111.95982078 101.77137302]\n",
      " [127.31356488 119.30303467]\n",
      " [141.34585611 138.98136078]\n",
      " [153.25600396 138.71428028]]\n",
      "[[153.25600396 138.71428028]]\n",
      "[[153.91267417 139.51490303]]\n",
      "Xdiff [[0.43121576 0.64099679]]\n"
     ]
    }
   ],
   "source": [
    "\n",
    "#####experiment with m,n fixed\n",
    "\n",
    "\n",
    "\n",
    "import numpy as np\n",
    "import matplotlib.pyplot as plt #library for plots\n",
    "from scipy.interpolate import interp1d\n",
    "\n",
    "\n",
    "r,sigma,S0,T=0.03,0.2,100,1\n",
    "\n",
    "n=2\n",
    "m=5\n",
    "#a=[2,2,2,2,2,2]\n",
    "#m=np.cumprod(a)\n",
    "print(m)\n",
    "\n",
    "\n",
    "times=np.linspace(0,T,m)\n",
    "print('T',times)\n",
    "\n",
    "dt=times[1]-times[0]\n",
    "dB=np.sqrt(dt)*np.random.randn(m-1,n)\n",
    "print(dB)\n",
    "W0=np.zeros((1,n))\n",
    "W=np.concatenate((W0,np.cumsum(dB,axis=0)),axis=0)\n",
    "\n",
    "print('W',W)\n",
    "\n",
    "X=S0*np.exp((r-sigma**2/2)*times+sigma*W.T).T\n",
    "print('X',X)\n",
    "Xm1=S0*np.cumprod(1+r*dt+sigma*dB,axis=0)\n",
    "print('Xm1',Xm1)\n",
    "s0=S0*np.ones((1,n))\n",
    "print\n",
    "Xm=np.concatenate((s0,Xm1),axis=0)\n",
    "print('Xm', Xm)\n",
    "print (Xm[m-1:])\n",
    "\n",
    "print (X[m-1:])\n",
    "\n",
    "Xdiff=(Xm[m-1:]-X[m-1:])**2\n",
    "\n",
    "print('Xdiff', Xdiff)\n",
    "\n",
    "\n",
    "e=np.mean(Xdiff)\n",
    "d=np.std(Xdiff)\n",
    "\n",
    "\n",
    "\n",
    "\n",
    "\n",
    "\n",
    "\n",
    "#print(Xm)\n",
    "\n",
    "\n",
    "\n",
    "\n",
    "\n",
    "\n",
    "\n",
    "\n",
    "\n",
    "\n",
    "\n",
    "\n",
    "\n",
    "\n",
    "\n",
    "\n",
    "#plt.plot(times,Xm)\n",
    "\n",
    "\n",
    "\n"
   ]
  },
  {
   "cell_type": "code",
   "execution_count": null,
   "metadata": {},
   "outputs": [],
   "source": []
  },
  {
   "cell_type": "code",
   "execution_count": 12,
   "metadata": {},
   "outputs": [
    {
     "name": "stdout",
     "output_type": "stream",
     "text": [
      "[[100.         112.14227681 127.98391492 142.18413497 153.91267417]\n",
      " [100.         101.27948932 119.7192088  140.48393316 139.51490303]]\n"
     ]
    }
   ],
   "source": [
    "times=np.linspace(0,T,m)\n",
    "\n",
    "X=S0*np.exp((r-sigma**2/2)*times+sigma*W.T)\n",
    "\n",
    "print(X)"
   ]
  },
  {
   "cell_type": "code",
   "execution_count": 13,
   "metadata": {
    "scrolled": false
   },
   "outputs": [
    {
     "name": "stdout",
     "output_type": "stream",
     "text": [
      "[300 350 400 450 500 550]\n",
      "0.029768116259841725\n",
      "0.025268576302225267\n",
      "0.021289122935651994\n",
      "0.019532193289152348\n",
      "0.017378790716520164\n",
      "0.016006874135609184\n",
      "[0.02976812 0.02526858 0.02128912 0.01953219 0.01737879 0.01600687]\n"
     ]
    }
   ],
   "source": [
    "import numpy as np\n",
    "import matplotlib.pyplot as plt #library for plots\n",
    "from scipy.interpolate import interp1d\n",
    "\n",
    "\n",
    "r,sigma,S0,T=0.03,0.2,100,1\n",
    "\n",
    "\n",
    "\n",
    "n=10000\n",
    "#M=np.cumprod([2,2,2,2,2,2])\n",
    "#M=np.array([2,4,6,8,10,12])\n",
    "#M=np.array([16,32,64,120,256,300])\n",
    "M=np.array([300,350,400,450,500,550])\n",
    "print(M)\n",
    "\n",
    "E=[]\n",
    "for m in M:\n",
    "\n",
    "\n",
    "\n",
    "\n",
    "    times=np.linspace(0,T,m)\n",
    "    #print('T',times)\n",
    "\n",
    "    dt=times[1]-times[0]\n",
    "    dB=np.sqrt(dt)*np.random.randn(m-1,n)\n",
    "    W0=np.zeros((1,n))\n",
    "    W=np.concatenate((W0,np.cumsum(dB,axis=0)),axis=0)\n",
    "\n",
    "    #print('W',W)\n",
    "\n",
    "    X=S0*np.exp((r-(sigma**2)/2)*times+sigma*W.T).T\n",
    "    #print('X',X)\n",
    "    Xm1=S0*np.cumprod(1+r*dt+sigma*dB,axis=0)\n",
    "    #print('Xm1',Xm1)\n",
    "    s0=S0*np.ones((1,n))\n",
    "\n",
    "    Xm=np.concatenate((s0,Xm1),axis=0)\n",
    "    #print('Xm', Xm)\n",
    "\n",
    "    Xdiff=(Xm[m-1:]-X[m-1:])**2\n",
    "\n",
    "    #print('Xdiff', Xdiff)\n",
    "\n",
    "\n",
    "    e=np.mean(Xdiff)\n",
    "    print(e)\n",
    "    d=np.std(Xdiff)\n",
    "\n",
    "    E=np.append(E,e)\n",
    "\n",
    "    \n",
    "print(E)\n",
    "\n"
   ]
  },
  {
   "cell_type": "code",
   "execution_count": 14,
   "metadata": {
    "scrolled": true
   },
   "outputs": [
    {
     "data": {
      "text/plain": [
       "[<matplotlib.lines.Line2D at 0x2d0808c5290>]"
      ]
     },
     "execution_count": 14,
     "metadata": {},
     "output_type": "execute_result"
    },
    {
     "data": {
      "image/png": "[encoded data removed]",
      "text/plain": [
       "<Figure size 640x480 with 1 Axes>"
      ]
     },
     "metadata": {},
     "output_type": "display_data"
    }
   ],
   "source": [
    "\n",
    "A=1/M\n",
    "\n",
    "plt.plot(A,E)"
   ]
  },
  {
   "cell_type": "code",
   "execution_count": 15,
   "metadata": {},
   "outputs": [
    {
     "name": "stdout",
     "output_type": "stream",
     "text": [
      "[ 16  32  64 120 256]\n",
      "Xm1 [[ 97.75198268  95.94383601  94.66426861 ...  86.44198118  87.64243888\n",
      "   91.77892462]\n",
      " [ 98.081792   101.89896043 106.022851   ... 107.50753782 118.46208264\n",
      "  125.97759505]\n",
      " [ 99.55027011  95.76037508  91.08445819 ... 104.33708197 104.95719743\n",
      "  106.83924069]\n",
      " ...\n",
      " [ 87.44664472  85.76122569  82.58755465 ...  93.66383367  87.13712314\n",
      "   84.7698327 ]\n",
      " [ 99.55598662  95.49409877  99.7567567  ... 112.34599456 105.59073828\n",
      "  103.60694118]\n",
      " [ 96.29915923  94.50101095  98.10788472 ... 112.46391882 112.78213927\n",
      "  116.44830562]]\n",
      "Xm [[100.          97.75198268  95.94383601 ...  86.44198118  87.64243888\n",
      "   91.77892462]\n",
      " [100.          98.081792   101.89896043 ... 107.50753782 118.46208264\n",
      "  125.97759505]\n",
      " [100.          99.55027011  95.76037508 ... 104.33708197 104.95719743\n",
      "  106.83924069]\n",
      " ...\n",
      " [100.          87.44664472  85.76122569 ...  93.66383367  87.13712314\n",
      "   84.7698327 ]\n",
      " [100.          99.55598662  95.49409877 ... 112.34599456 105.59073828\n",
      "  103.60694118]\n",
      " [100.          96.29915923  94.50101095 ... 112.46391882 112.78213927\n",
      "  116.44830562]]\n",
      "Xdiff [0.85828571 0.86787087 0.69997237 ... 0.00622821 0.00896306 0.01825536]\n",
      "0.5991452493943852\n",
      "Xm1 [[101.59475908 103.45231469 102.23884759 ... 119.9691114  118.6924136\n",
      "  118.4507622 ]\n",
      " [106.01590884 114.63341736 120.75801053 ...  92.04602294  93.59893138\n",
      "   98.76829158]\n",
      " [102.68241618 104.88788784 101.12021498 ...  88.51439213  80.15018104\n",
      "   84.3520201 ]\n",
      " ...\n",
      " [102.28035422 110.3352953   99.582328   ...  92.1893832   92.82797851\n",
      "   91.42163882]\n",
      " [102.03809524  98.88219114 100.25947182 ... 127.86317554 126.90240267\n",
      "  127.41360866]\n",
      " [ 99.84744522  93.83465128  92.92467953 ... 114.98434328 114.05724507\n",
      "  119.87370209]]\n",
      "Xm [[100.         101.59475908 103.45231469 ... 119.9691114  118.6924136\n",
      "  118.4507622 ]\n",
      " [100.         106.01590884 114.63341736 ...  92.04602294  93.59893138\n",
      "   98.76829158]\n",
      " [100.         102.68241618 104.88788784 ...  88.51439213  80.15018104\n",
      "   84.3520201 ]\n",
      " ...\n",
      " [100.         102.28035422 110.3352953  ...  92.1893832   92.82797851\n",
      "   91.42163882]\n",
      " [100.         102.03809524  98.88219114 ... 127.86317554 126.90240267\n",
      "  127.41360866]\n",
      " [100.          99.84744522  93.83465128 ... 114.98434328 114.05724507\n",
      "  119.87370209]]\n",
      "Xdiff [0.14538606 0.71768657 0.14014099 ... 0.29629179 0.15098017 0.22372784]\n",
      "0.2827783199555763\n",
      "Xm1 [[104.9616536  104.86399934 107.25683714 ...  88.83987076  83.66833037\n",
      "   86.77790683]\n",
      " [100.91651847 105.41213763 102.99235352 ... 107.69784969 108.52408725\n",
      "  106.81128252]\n",
      " [ 96.11401402  98.05859702  96.58488099 ... 123.97770937 130.09359002\n",
      "  131.21028261]\n",
      " ...\n",
      " [101.60300866 102.32410206  97.61797678 ... 100.03427871 100.66691298\n",
      "  101.79044083]\n",
      " [ 95.61721294  95.78306313  93.59927784 ...  80.84126586  80.95308313\n",
      "   82.06742784]\n",
      " [ 97.37052154  97.16859311 100.30787522 ... 132.54568513 128.97051745\n",
      "  129.8882181 ]]\n",
      "Xm [[100.         104.9616536  104.86399934 ...  88.83987076  83.66833037\n",
      "   86.77790683]\n",
      " [100.         100.91651847 105.41213763 ... 107.69784969 108.52408725\n",
      "  106.81128252]\n",
      " [100.          96.11401402  98.05859702 ... 123.97770937 130.09359002\n",
      "  131.21028261]\n",
      " ...\n",
      " [100.         101.60300866 102.32410206 ... 100.03427871 100.66691298\n",
      "  101.79044083]\n",
      " [100.          95.61721294  95.78306313 ...  80.84126586  80.95308313\n",
      "   82.06742784]\n",
      " [100.          97.37052154  97.16859311 ... 132.54568513 128.97051745\n",
      "  129.8882181 ]]\n",
      "Xdiff [0.19074633 0.12941457 0.50656371 ... 0.07143496 0.00467341 0.35072601]\n",
      "0.14164193563537097\n",
      "Xm1 [[ 98.98390242  97.19841192  95.00669068 ... 110.44185637 109.59708354\n",
      "  110.41992602]\n",
      " [ 99.02227941 102.11454544 105.3421044  ... 117.69321128 118.66353704\n",
      "  121.05159413]\n",
      " [100.93613899  99.65405487  99.81024483 ...  53.60548645  54.17113211\n",
      "   54.6243338 ]\n",
      " ...\n",
      " [ 97.66074249  97.97510181  99.46446356 ...  89.87776509  90.68740335\n",
      "   89.1031681 ]\n",
      " [101.91946163 101.37506061 102.20407145 ... 100.04609976 101.12590686\n",
      "  103.30009234]\n",
      " [102.71481203 101.75110206 103.40479375 ... 106.22986182 108.44356304\n",
      "  106.03747142]]\n",
      "Xm [[100.          98.98390242  97.19841192 ... 110.44185637 109.59708354\n",
      "  110.41992602]\n",
      " [100.          99.02227941 102.11454544 ... 117.69321128 118.66353704\n",
      "  121.05159413]\n",
      " [100.         100.93613899  99.65405487 ...  53.60548645  54.17113211\n",
      "   54.6243338 ]\n",
      " ...\n",
      " [100.          97.66074249  97.97510181 ...  89.87776509  90.68740335\n",
      "   89.1031681 ]\n",
      " [100.         101.91946163 101.37506061 ... 100.04609976 101.12590686\n",
      "  103.30009234]\n",
      " [100.         102.71481203 101.75110206 ... 106.22986182 108.44356304\n",
      "  106.03747142]]\n",
      "Xdiff [0.09356748 0.05983869 0.00814953 ... 0.00088893 0.01275288 0.15586094]\n",
      "0.0743722611508128\n",
      "Xm1 [[ 98.42203055  98.14666349  97.8942429  ...  91.04808923  91.66164532\n",
      "   92.60960647]\n",
      " [100.8800031   99.97592112 100.19222747 ... 110.85918303 109.16289943\n",
      "  107.75717766]\n",
      " [ 99.87770023  99.70978316 100.02599235 ... 105.41695313 104.77501825\n",
      "  104.28497038]\n",
      " ...\n",
      " [ 99.46185278  99.3397128   99.00488686 ...  74.21191099  74.45499039\n",
      "   75.28137208]\n",
      " [ 99.09113942  99.31123538  99.90377807 ...  81.45704016  81.49976727\n",
      "   82.04453667]\n",
      " [ 99.62588946  99.33104808  99.42714011 ... 128.12487499 128.18446453\n",
      "  129.54270099]]\n",
      "Xm [[100.          98.42203055  98.14666349 ...  91.04808923  91.66164532\n",
      "   92.60960647]\n",
      " [100.         100.8800031   99.97592112 ... 110.85918303 109.16289943\n",
      "  107.75717766]\n",
      " [100.          99.87770023  99.70978316 ... 105.41695313 104.77501825\n",
      "  104.28497038]\n",
      " ...\n",
      " [100.          99.46185278  99.3397128  ...  74.21191099  74.45499039\n",
      "   75.28137208]\n",
      " [100.          99.09113942  99.31123538 ...  81.45704016  81.49976727\n",
      "   82.04453667]\n",
      " [100.          99.62588946  99.33104808 ... 128.12487499 128.18446453\n",
      "  129.54270099]]\n",
      "Xdiff [0.00291992 0.01517382 0.01292381 ... 0.01884015 0.03668695 0.00082135]\n",
      "0.03490809388810949\n",
      "[0.59914525 0.28277832 0.14164194 0.07437226 0.03490809]\n"
     ]
    }
   ],
   "source": [
    "import numpy as np\n",
    "import matplotlib.pyplot as plt #library for plots\n",
    "from scipy.interpolate import interp1d\n",
    "\n",
    "\n",
    "r,sigma,S0,T=0.03,0.2,100,1\n",
    "\n",
    "\n",
    "\n",
    "n=10000\n",
    "#M=np.cumprod([2,2,2,2,2,2])\n",
    "\n",
    "M=np.array([16,32,64,120,256])\n",
    "print(M)\n",
    "E=[]\n",
    "for m in M:\n",
    "\n",
    "\n",
    "\n",
    "\n",
    "    times=np.linspace(0,T,m)\n",
    "    #print('T',times)\n",
    "\n",
    "    dt=times[1]-times[0]\n",
    "    dB=np.sqrt(dt)*np.random.randn(n,m-1)\n",
    "\n",
    "    W0=np.zeros((n,1))\n",
    "    W=np.concatenate((W0,np.cumsum(dB,axis=1)),axis=1)\n",
    "\n",
    "    #print('W',W)\n",
    "\n",
    "    X=S0*np.exp((r-(sigma**2)/2)*times+sigma*W)\n",
    "    #print('X',X)\n",
    "    Xm1=S0*np.cumprod(1+r*dt+sigma*dB,axis=1)\n",
    "    print('Xm1',Xm1)\n",
    "    s0=S0*np.ones((n,1))\n",
    "\n",
    "    Xm=np.concatenate((s0,Xm1),axis=1)\n",
    "    print('Xm', Xm)\n",
    "\n",
    "    Xdiff=(Xm[:,m-1]-X[:,m-1])**2\n",
    "\n",
    "    print('Xdiff', Xdiff)\n",
    "\n",
    "\n",
    "    e=np.mean(Xdiff)\n",
    "    print(e)\n",
    "    d=np.std(Xdiff)\n",
    "\n",
    "    E=np.append(E,e)\n",
    "\n",
    "    \n",
    "print(E)\n",
    "\n"
   ]
  },
  {
   "cell_type": "code",
   "execution_count": 16,
   "metadata": {
    "scrolled": false
   },
   "outputs": [
    {
     "data": {
      "text/plain": [
       "[<matplotlib.lines.Line2D at 0x2d0800b6350>]"
      ]
     },
     "execution_count": 16,
     "metadata": {},
     "output_type": "execute_result"
    },
    {
     "data": {
      "image/png": "[encoded data removed]",
      "text/plain": [
       "<Figure size 640x480 with 1 Axes>"
      ]
     },
     "metadata": {},
     "output_type": "display_data"
    }
   ],
   "source": [
    "\n",
    "A=1/M\n",
    "\n",
    "plt.plot(A,E)"
   ]
  }
 ],
 "metadata": {
  "kernelspec": {
   "display_name": "Python 3 (ipykernel)",
   "language": "python",
   "name": "python3"
  },
  "language_info": {
   "codemirror_mode": {
    "name": "ipython",
    "version": 3
   },
   "file_extension": ".py",
   "mimetype": "text/x-python",
   "name": "python",
   "nbconvert_exporter": "python",
   "pygments_lexer": "ipython3",
   "version": "3.11.4"
  }
 },
 "nbformat": 4,
 "nbformat_minor": 2
}
